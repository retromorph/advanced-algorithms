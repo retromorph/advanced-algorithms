{
 "cells": [
  {
   "cell_type": "code",
   "execution_count": 7,
   "metadata": {
    "collapsed": true
   },
   "outputs": [
    {
     "name": "stdout",
     "output_type": "stream",
     "text": [
      "5\n"
     ]
    }
   ],
   "source": [
    "def gcd(a, b):\n",
    "  while b != 0:\n",
    "    tmp_a = a\n",
    "    a = b\n",
    "    b = tmp_a % b\n",
    "  return a\n",
    "\n",
    "def count_operations(a, b, c, d):\n",
    "    counter = 0\n",
    "    while a * d < c * b:\n",
    "        counter += 1\n",
    "        a += 1\n",
    "        b += 1\n",
    "        gcd_a_b = gcd(a, b)\n",
    "        a //= gcd_a_b\n",
    "        b //= gcd_a_b\n",
    "\n",
    "        if a * d == c * b:\n",
    "            return counter\n",
    "    return 0\n",
    "\n",
    "a = int(input())\n",
    "b = int(input())\n",
    "c = int(input())\n",
    "d = int(input())\n",
    "\n",
    "print(count_operations(a, b, c, d))"
   ]
  },
  {
   "cell_type": "code",
   "execution_count": 46,
   "outputs": [
    {
     "name": "stdout",
     "output_type": "stream",
     "text": [
      "2\n"
     ]
    }
   ],
   "source": [
    "def gcd(a, b):\n",
    "  while b != 0:\n",
    "    tmp_a = a\n",
    "    a = b\n",
    "    b = tmp_a % b\n",
    "  return a\n",
    "\n",
    "def divs(n):\n",
    "  i = 2\n",
    "  div = [1]\n",
    "  while i * i <= n:\n",
    "      if n % i == 0:\n",
    "          div.append(i)\n",
    "          if i * i != n:\n",
    "              div.append(n // i)\n",
    "      i += 1\n",
    "  div.append(n)\n",
    "  return div\n",
    "\n",
    "n = int(input())\n",
    "\n",
    "divs_n = divs(n)\n",
    "counter = 0\n",
    "for i in range(len(divs_n) - 1):\n",
    "    j = i + 1\n",
    "    while j < len(divs_n) and divs_n[j] * divs_n[i] <= n:\n",
    "        if gcd(divs_n[i], divs_n[j]) == 1:\n",
    "            counter += 1\n",
    "        j += 1\n",
    "\n",
    "print(counter)"
   ],
   "metadata": {
    "collapsed": false
   }
  },
  {
   "cell_type": "code",
   "execution_count": 52,
   "outputs": [
    {
     "name": "stdout",
     "output_type": "stream",
     "text": [
      "32\n"
     ]
    }
   ],
   "source": [
    "w, h, n = map(int, input().split())\n",
    "\n",
    "l = -1\n",
    "r = max(w, h) * n\n",
    "while r - l > 1:\n",
    "    m = (l + r) // 2\n",
    "    if (m // w) * (m // h) >= n:\n",
    "        r = m\n",
    "    else:\n",
    "        l = m\n",
    "\n",
    "print(r)"
   ],
   "metadata": {
    "collapsed": false
   }
  },
  {
   "cell_type": "code",
   "execution_count": 49,
   "outputs": [
    {
     "name": "stdout",
     "output_type": "stream",
     "text": [
      "2\n"
     ]
    }
   ],
   "source": [
    "n, k = map(int, input().split())\n",
    "A = [i + 1 for i in range(n)]\n",
    "\n",
    "pretty_amount = 0\n",
    "def gen_permutations(A: list, t: int):\n",
    "    global pretty_amount\n",
    "    if t == len(A) - 1:\n",
    "        prettiness = 0\n",
    "        for i in range(n - 1):\n",
    "            prettiness += A[i] * A[i + 1]\n",
    "\n",
    "        if prettiness % k == 0:\n",
    "            pretty_amount += 1\n",
    "    else:\n",
    "        for i in range(t, len(A)):\n",
    "            A[t], A[i] = A[i], A[t]\n",
    "            t += 1\n",
    "            gen_permutations(A, t)\n",
    "            t -= 1\n",
    "            A[t], A[i] = A[i], A[t]\n",
    "\n",
    "gen_permutations(A, 0)\n",
    "print(pretty_amount)"
   ],
   "metadata": {
    "collapsed": false
   }
  },
  {
   "cell_type": "code",
   "execution_count": null,
   "outputs": [],
   "source": [],
   "metadata": {
    "collapsed": false
   }
  }
 ],
 "metadata": {
  "kernelspec": {
   "display_name": "Python 3",
   "language": "python",
   "name": "python3"
  },
  "language_info": {
   "codemirror_mode": {
    "name": "ipython",
    "version": 2
   },
   "file_extension": ".py",
   "mimetype": "text/x-python",
   "name": "python",
   "nbconvert_exporter": "python",
   "pygments_lexer": "ipython2",
   "version": "2.7.6"
  }
 },
 "nbformat": 4,
 "nbformat_minor": 0
}
