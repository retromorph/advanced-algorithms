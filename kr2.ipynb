{
 "cells": [
  {
   "cell_type": "markdown",
   "source": [
    "# A. Кузнечик-K"
   ],
   "metadata": {
    "collapsed": false
   }
  },
  {
   "cell_type": "code",
   "execution_count": 13,
   "outputs": [
    {
     "name": "stdout",
     "output_type": "stream",
     "text": [
      "1\n"
     ]
    }
   ],
   "source": [
    "N, K = list(map(int, input().split()))\n",
    "\n",
    "dp = [0] * (N + 1)\n",
    "dp[1] = 1\n",
    "for i in range(2, N + 1):\n",
    "    for j in range(i, max(i - K - 1, -1), -1):\n",
    "        dp[i] += dp[j]\n",
    "\n",
    "print(dp[-1])"
   ],
   "metadata": {
    "collapsed": false
   }
  },
  {
   "cell_type": "markdown",
   "source": [
    "# B. Черепашка [АиСД]"
   ],
   "metadata": {
    "collapsed": false
   }
  },
  {
   "cell_type": "code",
   "execution_count": 50,
   "outputs": [
    {
     "name": "stdout",
     "output_type": "stream",
     "text": [
      "11\n"
     ]
    }
   ],
   "source": [
    "N, M = list(map(int, input().split()))\n",
    "C = [None] * N\n",
    "dp = [None] * N\n",
    "for i in range(N):\n",
    "    C[i] = list(map(int, input().split()))\n",
    "    dp[i] = [0] * M\n",
    "\n",
    "dp[0][0] = C[0][0]\n",
    "for i in range(1, M):\n",
    "    dp[0][i] = dp[0][i - 1] + C[0][i]\n",
    "\n",
    "for i in range(1, N):\n",
    "    dp[i][0] = dp[i - 1][0] + C[i][0]\n",
    "\n",
    "for i in range(1, N):\n",
    "    for j in range(1, M):\n",
    "        dp[i][j] = max(dp[i - 1][j], dp[i][j - 1]) + C[i][j]\n",
    "\n",
    "print(dp[N - 1][M - 1])"
   ],
   "metadata": {
    "collapsed": false
   }
  },
  {
   "cell_type": "markdown",
   "source": [
    "# C. Попытка к бегству"
   ],
   "metadata": {
    "collapsed": false
   }
  },
  {
   "cell_type": "code",
   "execution_count": 46,
   "outputs": [
    {
     "name": "stdout",
     "output_type": "stream",
     "text": [
      "3\n"
     ]
    }
   ],
   "source": [
    "N, M = list(map(int, input().split()))\n",
    "plan = [None] * N\n",
    "dp = [None] * N\n",
    "for i in range(N):\n",
    "    plan[i] = list(map(int, input().split()))\n",
    "    dp[i] = [0] * M\n",
    "\n",
    "for i in range(M):\n",
    "    if plan[0][i] == 0:\n",
    "        break\n",
    "    dp[0][i] = 1\n",
    "\n",
    "for i in range(N):\n",
    "    if plan[i][0] == 0:\n",
    "        break\n",
    "    dp[i][0] = 1\n",
    "\n",
    "for i in range(1, N):\n",
    "    for j in range(1, M):\n",
    "        if plan[i - 1][j] == 1:\n",
    "            dp[i][j] += dp[i - 1][j]\n",
    "        if plan[i][j - 1] == 1:\n",
    "            dp[i][j] += dp[i][j - 1]\n",
    "\n",
    "res = dp[N - 1][M - 1]\n",
    "if res == 0:\n",
    "    print('Impossible')\n",
    "else:\n",
    "    print(res)"
   ],
   "metadata": {
    "collapsed": false
   }
  },
  {
   "cell_type": "markdown",
   "source": [
    "# D. Школа танцев"
   ],
   "metadata": {
    "collapsed": false
   }
  },
  {
   "cell_type": "code",
   "execution_count": 65,
   "outputs": [
    {
     "name": "stdout",
     "output_type": "stream",
     "text": [
      "[3, 4, 2, 0, 0, 0, 0, 0, 0]\n",
      "[0, 0, 0, 0, 0, 0, 0, 0]\n",
      "10\n"
     ]
    }
   ],
   "source": [
    "n = int(input())\n",
    "a = [0]*(n+1)\n",
    "b = [0]*n\n",
    "a[0] = 1\n",
    "s = 0\n",
    "for ch in input():\n",
    "    s += [-1, +1][ch == 'a']\n",
    "    if s >= 0:\n",
    "        a[s] += 1\n",
    "    else:\n",
    "        b[-s] += 1\n",
    "\n",
    "print(a)\n",
    "print(b)\n",
    "print(sum([x*(x-1)//2 for x in a + b]))"
   ],
   "metadata": {
    "collapsed": false
   }
  },
  {
   "cell_type": "markdown",
   "source": [
    "# E. Гемоглобин"
   ],
   "metadata": {
    "collapsed": false
   }
  },
  {
   "cell_type": "code",
   "execution_count": null,
   "outputs": [],
   "source": [
    "def binsearch_left(A, key):\n",
    "    l = -1\n",
    "    r = len(A)\n",
    "    while r - l > 1:\n",
    "        m = (l + r) // 2\n",
    "        if A[m] < key:\n",
    "            l = m\n",
    "        else:\n",
    "            r = m\n",
    "    return r if r != len(A) else -1\n",
    "\n",
    "def binsearch_right(A, key):\n",
    "    l = -1\n",
    "    r = len(A)\n",
    "    while r - l > 1:\n",
    "        m = (l + r) // 2\n",
    "        if A[m] <= key:\n",
    "            l = m\n",
    "        else:\n",
    "            r = m\n",
    "    return l\n",
    "\n",
    "n = int(input())\n",
    "A = input()\n",
    "\n",
    "prefix_girls = [0]\n",
    "prefix_boys = [0]\n",
    "\n",
    "for i in range(n):\n",
    "    if A[i] == 'a':\n",
    "        prefix_girls.append(prefix_girls[-1] + 1)\n",
    "        prefix_boys.append(prefix_boys[-1])\n",
    "    else:\n",
    "        prefix_girls.append(prefix_girls[-1])\n",
    "        prefix_boys.append(prefix_boys[-1] + 1)\n",
    "\n",
    "balance = 0\n",
    "res = 0\n",
    "for i in range(n):\n",
    "    if A[i] == 'a':\n",
    "        balance -= 1\n",
    "    else:\n",
    "        balance += 1\n",
    "\n",
    "    if balance == 0:\n",
    "        res += 1\n",
    "    elif res < 0:\n",
    "        pass\n",
    "    else:\n",
    "        pass\n",
    "\n",
    "\n"
   ],
   "metadata": {
    "collapsed": false
   }
  },
  {
   "cell_type": "code",
   "execution_count": 23,
   "outputs": [
    {
     "name": "stdout",
     "output_type": "stream",
     "text": [
      "[10]\n",
      "[0, 10]\n",
      "-------\n"
     ]
    }
   ],
   "source": [
    "n = int(input())\n",
    "stack = []\n",
    "prefix_sum = [0]\n",
    "\n",
    "for i in range(n):\n",
    "    raw = input()\n",
    "    if raw[0] == '+':\n",
    "        value = int(raw[1:])\n",
    "        stack.append(value)\n",
    "        prefix_sum.append(prefix_sum[-1] + value)\n",
    "    elif raw[0] == '?':\n",
    "        value = int(raw[1:])\n",
    "        print(prefix_sum[-1] - prefix_sum[-value - 1])\n",
    "    elif raw[0] == '-':\n",
    "        print(stack[-1])\n",
    "        prefix_sum.pop()\n",
    "        stack.pop()"
   ],
   "metadata": {
    "collapsed": false
   }
  },
  {
   "cell_type": "markdown",
   "source": [
    "# F*. Сообщение"
   ],
   "metadata": {
    "collapsed": false
   }
  },
  {
   "cell_type": "code",
   "execution_count": 30,
   "outputs": [
    {
     "name": "stdout",
     "output_type": "stream",
     "text": [
      "33\n",
      "32\n",
      "22\n",
      "22\n",
      "[1, 1, 2, 3, 5, 8]\n"
     ]
    }
   ],
   "source": [
    "n = input()\n",
    "\n",
    "dp = [0] * (len(n) + 1)\n",
    "dp[0] = 1\n",
    "dp[1] = 1\n",
    "for i in range(2, len(n) + 1):\n",
    "    dp[i] += dp[i - 1]\n",
    "    if n[i - 2] != '0' and int(n[i - 2:i]) <= 33:\n",
    "        dp[i] += dp[i - 2]\n",
    "\n",
    "print(dp[-1])"
   ],
   "metadata": {
    "collapsed": false
   }
  },
  {
   "cell_type": "code",
   "execution_count": null,
   "outputs": [],
   "source": [],
   "metadata": {
    "collapsed": false
   }
  },
  {
   "cell_type": "code",
   "execution_count": 51,
   "outputs": [
    {
     "name": "stdout",
     "output_type": "stream",
     "text": [
      "70.0\n"
     ]
    }
   ],
   "source": [],
   "metadata": {
    "collapsed": false
   }
  },
  {
   "cell_type": "code",
   "execution_count": null,
   "outputs": [],
   "source": [],
   "metadata": {
    "collapsed": false
   }
  }
 ],
 "metadata": {
  "kernelspec": {
   "display_name": "Python 3",
   "language": "python",
   "name": "python3"
  },
  "language_info": {
   "codemirror_mode": {
    "name": "ipython",
    "version": 2
   },
   "file_extension": ".py",
   "mimetype": "text/x-python",
   "name": "python",
   "nbconvert_exporter": "python",
   "pygments_lexer": "ipython2",
   "version": "2.7.6"
  }
 },
 "nbformat": 4,
 "nbformat_minor": 0
}
