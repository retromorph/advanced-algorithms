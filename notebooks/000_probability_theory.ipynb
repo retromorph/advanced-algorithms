{
 "cells": [
  {
   "cell_type": "markdown",
   "source": [
    "# Теория вероятностей"
   ],
   "metadata": {
    "collapsed": false
   }
  },
  {
   "cell_type": "markdown",
   "source": [
    "## Базовые понятия"
   ],
   "metadata": {
    "collapsed": false
   }
  },
  {
   "cell_type": "markdown",
   "source": [
    "**Определение:** Конечное вероятностное пространство - это тройка $(\\Omega, \\rho(\\Omega), P)$,где\n",
    "$\\Omega$ - мно-во элементарных исходов,\n",
    "$\\rho: \\Omega \\longrightarrow [0, 1]$ - функция вероятности элементарного исхода, такая что $\\sum \\rho(\\omega) = 1$\n",
    "$P: 2^\\Omega \\longrightarrow [0, 1]$ - функция вероятности события, такая что $P(A) = \\sum_{\\omega \\in A} \\rho(\\omega)$\n",
    "\n",
    "**Определение:** Событие называется невозможным, если $P(A) = 0$\n",
    "**Определение:** Событие называется достоверным, если $P(A) = 1$\n",
    "\n",
    "**Определение:** Условная вероятность $P(A | B) = \\frac{P(A \\cap B)}{P(B)}$\n",
    "\n",
    "**Определение:** События $A$ и $B$ называются независимыми, если $P(A \\cap B) = P(A) \\cdot P(B)$ или, что эквивалентно $P(A | B) = P(A)$"
   ],
   "metadata": {
    "collapsed": false
   }
  },
  {
   "cell_type": "markdown",
   "source": [
    "Пусть $\\left\\{ A_1, A_2, ..., A_n \\right\\}$ - мн-во событий, тогда\n",
    "**Определение:** Оно называется попарно независимым, если $\\forall i, j < n$ $A_i$ и $A_j$ - независимы\n",
    "**Определение:** Оно называется независимым в совокупности, если они все одновременно независимы\n",
    "\n",
    "**Пример разницы между попарной независимостью и независимостью в совокупности:**\n",
    "$\\Omega$ - бросание двух кубиков\n",
    "События:\n",
    "- На первом выпало четное число\n",
    "- На втором выпало четное число\n",
    "- Сумма чисел на двух кубиках четна\n",
    "\n",
    "События являются попарно независимыми, но не в совокупности."
   ],
   "metadata": {
    "collapsed": false
   }
  },
  {
   "cell_type": "markdown",
   "source": [
    " **Определение:** Множество событий $\\left\\{ A_1, A_2, ..., A_n \\right\\}$ образует полную группу в вероятностном пространстве $\\Omega$, если:\n",
    " 1. $\\forall A_i, A_j$ $P(A_i \\cap A_j) = 0$, т.е. все события несовместимы\n",
    " 2.  $\\sum_{i}{P(A_i)} = 1$, при этом они покрывают все вероятностное пространство $\\Omega$\n",
    "\n",
    "Пример полной группы:\n",
    "<br/>\n",
    "<img src=\"../static/IMG_09F686348EDB-1.jpeg\" width=\"400\" style=\"position: relative; top: 100px\">\n",
    "\n",
    "Таким образом вероятность события B в этом пространстве $\\Omega$ можно выразить через элементы полной группы как:\n",
    "$P(B) = \\sum_{i}{P(B | A_i) \\cdot P(A_i)}$\n",
    "\n",
    "Пример:\n",
    "<br/>\n",
    "<img src=\"../static/IMG_252744EDB449-1.jpeg\" width=\"400\" style=\"position: relative; top: 100px\">\n",
    "\n",
    "_Примечание_: Это чем-то напоминает факторизацию в алгебре"
   ],
   "metadata": {
    "collapsed": false
   }
  },
  {
   "cell_type": "markdown",
   "source": [
    "## Случайные величины"
   ],
   "metadata": {
    "collapsed": false
   }
  },
  {
   "cell_type": "markdown",
   "source": [
    "**Определение:** Случайная величина - это произвольная функция $\\xi: \\Omega \\longrightarrow \\mathbb{R}$\n",
    "\n",
    "**Определение:** Случайные величины $\\xi$ и $\\phi$ называются независимыми, если $\\forall X, Y \\in \\mathbb{R}$ $A = P(\\xi \\in X)$ и $B = P(\\phi \\in Y)$ - $A$ и $B$ независимы"
   ],
   "metadata": {
    "collapsed": false
   }
  },
  {
   "cell_type": "markdown",
   "source": [
    "**Определение:** Математическое ожидание случайной величины - взвешенное среднее ее значений\n",
    "1. $E\\xi = \\sum_{\\omega \\in \\Omega}{\\xi(\\omega) \\cdot P(\\omega)}$\n",
    "2. По Лебегу $E\\xi = \\sum_{y \\in V(\\xi)}{y * P(\\omega : \\xi(\\omega) = y)}$\n",
    "\n",
    "**Теорема о линейности математического ожидания**\n",
    "$E(\\alpha\\xi + \\beta\\phi) = \\alpha \\cdot E\\xi + \\beta \\cdot E\\phi)$\n",
    "$\\square$ $E(\\alpha\\xi + \\beta\\phi) = \\sum_{\\omega \\in \\Omega}{\\bigg(\\alpha\\xi(\\omega) + \\beta\\phi(\\omega)\\bigg)} = E(\\alpha\\xi) + E(\\beta\\phi) = \\alpha \\cdot E\\xi + \\beta \\cdot E\\phi$ $\\blacksquare$\n"
   ],
   "metadata": {
    "collapsed": false
   }
  },
  {
   "cell_type": "markdown",
   "source": [
    "**Определение:** Индикаторная случайная величина - это\n",
    "$I_A = \\bigg\\{$"
   ],
   "metadata": {
    "collapsed": false
   }
  },
  {
   "cell_type": "markdown",
   "source": [
    "## Дисперсия"
   ],
   "metadata": {
    "collapsed": false
   }
  },
  {
   "cell_type": "markdown",
   "source": [
    "**Определение:** Дисперсия случайной величины $\\xi$ - это $D\\xi = E(\\xi - E\\xi)^2$\n",
    "_Примечание:_ Это второй момент случайной величины. Первый - это $E(|\\xi - E\\xi|)$, n-тый соответственно $E(|\\xi - E\\xi|^n)$\n",
    "\n",
    "**Определение:** Средне квадратичное отклонение случайно величины \\xi $\\sigma = \\sqrt{D\\xi}$"
   ],
   "metadata": {
    "collapsed": false
   }
  },
  {
   "cell_type": "code",
   "execution_count": null,
   "outputs": [],
   "source": [],
   "metadata": {
    "collapsed": false
   }
  }
 ],
 "metadata": {
  "kernelspec": {
   "display_name": "Python 3",
   "language": "python",
   "name": "python3"
  },
  "language_info": {
   "codemirror_mode": {
    "name": "ipython",
    "version": 2
   },
   "file_extension": ".py",
   "mimetype": "text/x-python",
   "name": "python",
   "nbconvert_exporter": "python",
   "pygments_lexer": "ipython2",
   "version": "2.7.6"
  }
 },
 "nbformat": 4,
 "nbformat_minor": 0
}
