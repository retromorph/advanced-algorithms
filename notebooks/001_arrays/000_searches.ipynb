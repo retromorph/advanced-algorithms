{
 "cells": [
  {
   "cell_type": "markdown",
   "source": "# Алгоритмы поиска",
   "metadata": {
    "collapsed": false
   }
  },
  {
   "cell_type": "markdown",
   "source": "## Задача поиска в массиве",
   "metadata": {
    "collapsed": false
   }
  },
  {
   "cell_type": "markdown",
   "source": [
    "**Определение:** Задача поиска в массиве (Search in array problem)\n",
    "\n",
    "Вход: Число $k$ и массив из $n$ чисел $\\langle a_1, ..., a_n \\rangle$\n",
    "\n",
    "Выход: Позиция $i$ элемента $k$ в массиве $A$, либо $-1$, если $k$ в $A$ нет\n",
    "\n",
    "**Правосторонний поиск:** Поиск при котором если $\\exists i > j : A_i = A_j = k$, то ответом будет индекс $i$ (наибольший)\n",
    "\n",
    "**Левосторонний поиск:** Поиск при котором если $\\exists i > j : A_i = A_j = k$, то ответом будет индекс $j$ (наименьший)"
   ],
   "metadata": {
    "collapsed": false
   }
  },
  {
   "cell_type": "markdown",
   "source": [
    "## Бинарный поиск"
   ],
   "metadata": {
    "collapsed": false
   }
  },
  {
   "cell_type": "markdown",
   "source": [
    "Пусть массив $A$ отсортирован\n",
    "\n",
    "**Идея:** Приходим в элемент посередине, смотрим, больше он, чем искомый или меньше, в зависимости от этого переходим в левых/правый подмассив\n"
   ],
   "metadata": {
    "collapsed": false
   }
  },
  {
   "cell_type": "code",
   "execution_count": 2,
   "outputs": [
    {
     "data": {
      "text/plain": "3"
     },
     "execution_count": 2,
     "metadata": {},
     "output_type": "execute_result"
    }
   ],
   "source": [
    "def binsearch_left(A, key):\n",
    "    l = -1\n",
    "    r = len(A)\n",
    "    while r - l > 1:\n",
    "        m = (l + r) // 2\n",
    "        if A[m] < key:\n",
    "            l = m\n",
    "        else:\n",
    "            r = m\n",
    "    return r if r != len(A) else -1\n",
    "\n",
    "A = [1, 2, 3, 4, 4, 5, 6, 7, 8, 9, 10]\n",
    "binsearch_left(A, 4)"
   ],
   "metadata": {
    "collapsed": false
   }
  },
  {
   "cell_type": "markdown",
   "source": [
    "**Теорема**\n",
    "\n",
    "binsearch_left выполняет задачу поиска на отсортированном массиве A\n",
    "\n",
    "$\\square$\n",
    "\n",
    "**Случай 1:** $key \\in (A_l, A_r]$\n",
    "\n",
    "Инвариант: $key \\in (A_l, A_r]$\n",
    "\n",
    "Инициализация: $key \\in (A_{l_1}, A_{r_1}]$\n",
    "\n",
    "Сохранение: В предположении индукции $key \\in (A_{l_k}, A_{r_k}]$. Тогда если\n",
    "$A_{\\lfloor \\frac{l_k + r_k}{2} \\rfloor} < key$, то $l_{k + 1} = \\lfloor \\frac{l_k + r_k}{2} \\rfloor$, в обратном случае $r_{k + 1} = \\lfloor \\frac{l_k + r_k}{2} \\rfloor$, т.о. $key \\in (A_{l_{k + 1}}, A_{r_{k + 1}}]$\n",
    "\n",
    "Завершение: в момент, когда возрастающая последовательность $l_k$ и убывающая последовательность $r_k$ встретятся в точке $k'$, останется один элемент $A_{r_{k'}}$, который либо равен $key$ и тогда binsearch_left вернет $r_{k'}$, либо не равен и тогда binsearch_left вернет $-1$\n",
    "\n",
    "**Случай 2:** $key \\notin (A_l, A_r]$\n",
    "\n",
    "Думаю, ситуация в этом случае очевидна, $l_k$ будет возрастать, пока не встретится с $r_k$, которая меняться не будет. Так как $key \\notin (A_l, A_r]$, binsearch_left вернет $-1$\n",
    "\n",
    "$\\blacksquare$\n",
    "\n",
    "\n",
    "**Теорема**\n",
    "\n",
    "binsearch_left имеет асимптотику $\\theta(\\log(n))$\n",
    "\n",
    "$\\square$\n",
    "\n",
    "$T(n) = T(n / 2) + 1$, т.о.\n",
    "\n",
    "$T(n) = \\Theta(\\log(n))$\n",
    "\n",
    "$\\blacksquare$"
   ],
   "metadata": {
    "collapsed": false
   }
  },
  {
   "cell_type": "markdown",
   "source": [
    "Аналогично можно ввести правосторонний бинпоиск"
   ],
   "metadata": {
    "collapsed": false
   }
  },
  {
   "cell_type": "code",
   "execution_count": 3,
   "outputs": [
    {
     "data": {
      "text/plain": "4"
     },
     "execution_count": 3,
     "metadata": {},
     "output_type": "execute_result"
    }
   ],
   "source": [
    "def binsearch_right(A, key):\n",
    "    l = -1\n",
    "    r = len(A)\n",
    "    while r - l > 1:\n",
    "        m = (l + r) // 2\n",
    "        if A[m] <= key:\n",
    "            l = m\n",
    "        else:\n",
    "            r = m\n",
    "    return l\n",
    "\n",
    "A = [1, 2, 3, 4, 4, 5, 6, 7, 8, 9, 10]\n",
    "binsearch_right(A, 4)"
   ],
   "metadata": {
    "collapsed": false
   }
  },
  {
   "metadata": {},
   "cell_type": "markdown",
   "source": "## Задача поиска по ответу"
  },
  {
   "metadata": {},
   "cell_type": "markdown",
   "source": [
    "Пусть $X, Y$ - вполне упорядоченные множества, $f: X \\longrightarrow Y$ функция\n",
    "\n",
    "**Определение:** Задача поиска по ответу функции $f$\n",
    "\n",
    "Вход: $c \\in Y$\n",
    "\n",
    "Выход: $x \\in X$ : $f(x) = c$ или $\\text{None}$ если такого $x$ не существует\n",
    "\n",
    "Рассмотрим массив $A = \\langle f(x_1), f(x_2), ..., f(x_n) : x_i \\in X\\rangle$.\n",
    "Таким образом эта задача сводится к изначальной задаче поиска по массиву\n",
    "\n",
    "Например $X = Y = [a, b] \\subset \\mathbb{RFloat}$ и $f$ такая:\n",
    "\n",
    "<img src=\"../static/monotonic_function.png\">"
   ]
  },
  {
   "metadata": {},
   "cell_type": "markdown",
   "source": [
    "Рассмотрим пример:\n",
    "\n",
    "Дано целое число $0 \\le n \\le 2^{64} - 1$. Задача - найти $\\lfloor \\sqrt{n} \\rfloor$.\n",
    "\n",
    "Формализуем задачу - $X = Y = [0, 2^{64}] \\subset \\mathbb{N}$, $f(x) = x^2$ - монотонная функция, поэтому можем применить бинарный поиск"
   ]
  },
  {
   "metadata": {
    "ExecuteTime": {
     "end_time": "2025-05-14T21:01:42.081979Z",
     "start_time": "2025-05-14T21:01:37.918178Z"
    }
   },
   "cell_type": "code",
   "source": [
    "EPS = 1\n",
    "\n",
    "n = int(input())\n",
    "l = 0 if n == 0 else 1\n",
    "r = n\n",
    "while r - l > EPS:\n",
    "    m = l + (r - l) // 2\n",
    "    if m * m <= n:\n",
    "        l = m\n",
    "    else:\n",
    "        r = m\n",
    "print(l)"
   ],
   "outputs": [
    {
     "name": "stdout",
     "output_type": "stream",
     "text": [
      "1111\n"
     ]
    }
   ],
   "execution_count": 3
  },
  {
   "metadata": {},
   "cell_type": "markdown",
   "source": [
    "Рассмотрим еще один пример:\n",
    "\n",
    "МОП в стойло"
   ]
  },
  {
   "metadata": {},
   "cell_type": "code",
   "outputs": [],
   "execution_count": null,
   "source": [
    "N, K = map(int, input().split())\n",
    "ns = list(map(int, input().strip().split()))[:N]\n",
    "\n",
    "def check(K, m):\n",
    "    global ns, N\n",
    "    K -= 1\n",
    "    i = 1\n",
    "    prev = ns[0]\n",
    "    while i < N:\n",
    "        if ns[i] - prev >= m:\n",
    "            prev = ns[i]\n",
    "            K -= 1\n",
    "\n",
    "        if K == 0:\n",
    "            return True\n",
    "        i += 1\n",
    "    return False\n",
    "\n",
    "l = -1\n",
    "r = ns[N - 1] - ns[0] + 1\n",
    "while r - l > 1:\n",
    "    m = (l + r) // 2\n",
    "    if check(K, m):\n",
    "        l = m\n",
    "    else:\n",
    "        r = m\n",
    "\n",
    "print(l)"
   ]
  },
  {
   "cell_type": "markdown",
   "source": "**Замечание:** Если задачу можно переформулировать в виде \"найдите максимальное $X$, такое что какое-то свойство от X выполняется\", то ее можно решать с помощью бинпоиска. Такой метод называется бинарный поиск по ответу",
   "metadata": {
    "collapsed": false
   }
  },
  {
   "metadata": {},
   "cell_type": "markdown",
   "source": "## Интерполяционный поиск"
  },
  {
   "metadata": {},
   "cell_type": "markdown",
   "source": "**Идея:** Рассмотрим задачу: найти слово в словаре. Если оно начинается на букву \"А\", то никто не будет искать его в середине, а откроет словарь ближе к началу. Алгоритм бинарного поиска не делают различий между \"немного больше\" и \"существенно больше\". Поэтому будем делить не пополам, а"
  },
  {
   "metadata": {
    "ExecuteTime": {
     "end_time": "2025-05-15T11:03:56.888437Z",
     "start_time": "2025-05-15T11:03:56.883721Z"
    }
   },
   "cell_type": "code",
   "source": [
    "def interpolation_search(A, key):\n",
    "    l = 0\n",
    "    r = len(A) - 1\n",
    "    while A[l] < key < A[r]:\n",
    "        m = l + (key - A[l]) * (r - l) // (A[r] - A[l])\n",
    "\n",
    "        if A[m] < key:\n",
    "            l = m + 1\n",
    "        elif A[m] > key:\n",
    "            r = m - 1\n",
    "        else:\n",
    "            return m\n",
    "\n",
    "    if A[l] == key:\n",
    "        return l\n",
    "    elif A[r] == key:\n",
    "        return r\n",
    "    else:\n",
    "        return -1\n",
    "\n",
    "A = [1, 2, 3, 4, 4, 5, 6, 7, 8, 9, 10]\n",
    "interpolation_search(A, 4)"
   ],
   "outputs": [
    {
     "data": {
      "text/plain": [
       "3"
      ]
     },
     "execution_count": 12,
     "metadata": {},
     "output_type": "execute_result"
    }
   ],
   "execution_count": 12
  },
  {
   "metadata": {},
   "cell_type": "markdown",
   "source": [
    "**Теорема**\n",
    "\n",
    "Пусть $A \\sim  \\text{Uniform}([a, b]^n)$, тогда\n",
    "\n",
    "interpolation_search имеет ожидаемую асимптотику $\\theta(\\log \\log(n))$\n",
    "\n",
    "$\\square$\n",
    "\n",
    "Пусть $n_i = r_i - l_i + 1$ - кол-во элементов на $i$-том шаге интерполяционного поиска\n",
    "\n",
    "$\\mathbb{E}(n_i) = \\sqrt(n_{i - 1}) = n^{\\frac{1}{2^i}}$\n",
    "\n",
    "....\n",
    "\n",
    "$\\blacksquare$"
   ]
  },
  {
   "metadata": {},
   "cell_type": "markdown",
   "source": "## Тернарный поиск"
  },
  {
   "metadata": {},
   "cell_type": "markdown",
   "source": [
    "**Идея:** Тернарный поиск используется для нахождения экстремума унимодальной функции. В отличие от бинарного поиска, который делит интервал на две части, тернарный поиск делит интервал на три части и отбрасывает ту треть, которая гарантированно не содержит экстремум.\n",
    "\n",
    "Для унимодальной функции с минимумом (или максимумом) на интервале [a, b], мы вычисляем значения функции в точках, делящих интервал на три примерно равные части: m1 = a + (b-a)/3 и m2 = b - (b-a)/3. Затем, в зависимости от соотношения f(m1) и f(m2), мы отбрасываем левую или правую треть интервала."
   ]
  },
  {
   "metadata": {},
   "cell_type": "code",
   "outputs": [],
   "execution_count": null,
   "source": [
    "def ternary_search_min(f, left, right, eps=1e-9):\n",
    "    \"\"\"\n",
    "    Находит минимум унимодальной функции f на интервале [left, right]\n",
    "    с точностью eps.\n",
    "    \"\"\"\n",
    "    while right - left > eps:\n",
    "        m1 = left + (right - left) / 3\n",
    "        m2 = right - (right - left) / 3\n",
    "\n",
    "        if f(m1) < f(m2):\n",
    "            right = m2\n",
    "        else:\n",
    "            left = m1\n",
    "\n",
    "    return (left + right) / 2\n",
    "\n",
    "def ternary_search_max(f, left, right, eps=1e-9):\n",
    "    \"\"\"\n",
    "    Находит максимум унимодальной функции f на интервале [left, right]\n",
    "    с точностью eps.\n",
    "    \"\"\"\n",
    "    while right - left > eps:\n",
    "        m1 = left + (right - left) / 3\n",
    "        m2 = right - (right - left) / 3\n",
    "\n",
    "        if f(m1) > f(m2):\n",
    "            right = m2\n",
    "        else:\n",
    "            left = m1\n",
    "\n",
    "    return (left + right) / 2\n",
    "\n",
    "# Пример использования: найдем минимум параболы f(x) = x^2 - 4x + 5\n",
    "def f(x):\n",
    "    return x**2 - 4*x + 5\n",
    "\n",
    "min_x = ternary_search_min(f, -10, 10)\n",
    "print(f\"Минимум функции f(x) = x^2 - 4x + 5 находится в точке x ≈ {min_x:.6f}\")\n",
    "print(f\"Значение функции в этой точке: f({min_x:.6f}) = {f(min_x):.6f}\")\n"
   ]
  },
  {
   "metadata": {},
   "cell_type": "markdown",
   "source": [
    "**Теорема**\n",
    "\n",
    "Асимптотика тернарного поиска - $\\Theta(\\log(n))$, где $n$ - размер интервала поиска, деленный на требуемую точность.\n",
    "\n",
    "$\\square$\n",
    "\n",
    "На каждой итерации алгоритма интервал поиска уменьшается в $\\frac{3}{2}$ раза. Таким образом, для достижения точности $\\varepsilon$ на интервале размером $L$ требуется $\\log_{\\frac{3}{2}}(\\frac{L}{\\varepsilon})$ итераций, что равносильно $\\Theta(\\log(n))$.\n",
    "\n",
    "$\\blacksquare$\n",
    "\n",
    "**Замечание:** Тернарный поиск можно применять и для дискретных функций, например, для поиска максимума в массиве, где значения сначала возрастают, а затем убывают.\n"
   ]
  },
  {
   "metadata": {},
   "cell_type": "markdown",
   "source": "## Поиск с помощью золотого сечения"
  },
  {
   "metadata": {},
   "cell_type": "markdown",
   "source": [
    "**Идея:** Поиск с помощью золотого сечения - это метод оптимизации, используемый для нахождения экстремума унимодальной функции. Он похож на тернарный поиск, но использует золотое сечение для выбора точек, что позволяет переиспользовать одно из вычислений функции на каждой итерации.\n",
    "\n",
    "Золотое сечение - это иррациональное число, равное $\\frac{1 + \\sqrt{5}}{2} \\approx 1.618$. Обозначим его как $\\varphi$. Метод использует точки, делящие интервал в пропорции золотого сечения: $x_1 = b - \\frac{b-a}{\\varphi}$ и $x_2 = a + \\frac{b-a}{\\varphi}$.\n"
   ]
  },
  {
   "metadata": {},
   "cell_type": "code",
   "outputs": [],
   "execution_count": null,
   "source": [
    "import math\n",
    "\n",
    "def golden_section_search_min(f, a, b, eps=1e-9):\n",
    "    \"\"\"\n",
    "    Находит минимум унимодальной функции f на интервале [a, b]\n",
    "    с точностью eps, используя метод золотого сечения.\n",
    "    \"\"\"\n",
    "    # Золотое сечение\n",
    "    phi = (1 + math.sqrt(5)) / 2\n",
    "\n",
    "    # Начальные точки\n",
    "    x1 = b - (b - a) / phi\n",
    "    x2 = a + (b - a) / phi\n",
    "\n",
    "    # Вычисляем значения функции в этих точках\n",
    "    f1 = f(x1)\n",
    "    f2 = f(x2)\n",
    "\n",
    "    while b - a > eps:\n",
    "        if f1 > f2:\n",
    "            # Минимум находится в правой части\n",
    "            a = x1\n",
    "            x1 = x2\n",
    "            f1 = f2\n",
    "            x2 = a + (b - a) / phi\n",
    "            f2 = f(x2)\n",
    "        else:\n",
    "            # Минимум находится в левой части\n",
    "            b = x2\n",
    "            x2 = x1\n",
    "            f2 = f1\n",
    "            x1 = b - (b - a) / phi\n",
    "            f1 = f(x1)\n",
    "\n",
    "    return (a + b) / 2\n",
    "\n",
    "def golden_section_search_max(f, a, b, eps=1e-9):\n",
    "    \"\"\"\n",
    "    Находит максимум унимодальной функции f на интервале [a, b]\n",
    "    с точностью eps, используя метод золотого сечения.\n",
    "    \"\"\"\n",
    "    # Используем поиск минимума для функции -f\n",
    "    return golden_section_search_min(lambda x: -f(x), a, b, eps)\n",
    "\n",
    "# Пример использования: найдем минимум той же параболы f(x) = x^2 - 4x + 5\n",
    "def f(x):\n",
    "    return x**2 - 4*x + 5\n",
    "\n",
    "min_x = golden_section_search_min(f, -10, 10)\n",
    "print(f\"Минимум функции f(x) = x^2 - 4x + 5 находится в точке x ≈ {min_x:.6f}\")\n",
    "print(f\"Значение функции в этой точке: f({min_x:.6f}) = {f(min_x):.6f}\")\n"
   ]
  },
  {
   "metadata": {},
   "cell_type": "markdown",
   "source": [
    "**Теорема**\n",
    "\n",
    "Асимптотика поиска с помощью золотого сечения - $\\Theta(\\log(n))$, где $n$ - размер интервала поиска, деленный на требуемую точность.\n",
    "\n",
    "$\\square$\n",
    "\n",
    "На каждой итерации алгоритма интервал поиска уменьшается в $\\varphi$ раз. Таким образом, для достижения точности $\\varepsilon$ на интервале размером $L$ требуется $\\log_{\\varphi}(\\frac{L}{\\varepsilon})$ итераций, что равносильно $\\Theta(\\log(n))$.\n",
    "\n",
    "$\\blacksquare$\n",
    "\n",
    "**Замечание:** Преимущество метода золотого сечения перед тернарным поиском заключается в том, что на каждой итерации требуется только одно новое вычисление функции, а не два, что может быть важно, если вычисление функции дорогостоящее.\n",
    "\n",
    "**Замечание:** Метод золотого сечения часто используется в численных методах оптимизации, когда функция унимодальна на заданном интервале и не требуется знание производной.\n"
   ]
  }
 ],
 "metadata": {
  "kernelspec": {
   "display_name": "Python 3",
   "language": "python",
   "name": "python3"
  },
  "language_info": {
   "codemirror_mode": {
    "name": "ipython",
    "version": 2
   },
   "file_extension": ".py",
   "mimetype": "text/x-python",
   "name": "python",
   "nbconvert_exporter": "python",
   "pygments_lexer": "ipython2",
   "version": "2.7.6"
  }
 },
 "nbformat": 4,
 "nbformat_minor": 0
}
