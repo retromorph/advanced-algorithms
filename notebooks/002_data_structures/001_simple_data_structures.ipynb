{
 "cells": [
  {
   "metadata": {},
   "cell_type": "markdown",
   "source": "# Простые структуры данных"
  },
  {
   "metadata": {},
   "cell_type": "markdown",
   "source": "## Кучи"
  },
  {
   "metadata": {},
   "cell_type": "markdown",
   "source": [
    "**Определение:** Куча (Heap) - почти полное k-ичное дерево со свойством поддержки линейного порядка, т. е. $H_{parent} \\prec H$, где $\\prec$ - произвольный линейный порядок.\n",
    "\n",
    "Обычно куча поддерживает несколько операций:\n",
    "1. build - построить кучу\n",
    "2. insert - вставить элемент в кучу\n",
    "3. top - достать минимальный элемент из кучи\n",
    "4. extract - удалить минимальный элемент из кучи\n",
    "5. increase - увеличить ключ\n",
    "6. decrease - уменьшить ключ\n",
    "\n",
    "**Замечание:** Очевидными свойствами k-ичной кучи являются:\n",
    "1. На любом поддереве k-ичной кучи, его корень является минимальным элементом на поддереве\n",
    "2. $n$-элементная k-ичная куча имеет высоту $\\lfloor\\log_k(n))\\rfloor$"
   ]
  },
  {
   "metadata": {},
   "cell_type": "code",
   "outputs": [],
   "execution_count": null,
   "source": [
    "# from collections.abc import Callable\n",
    "#\n",
    "# class BinaryHeap:\n",
    "#     def __init__(self, f: Callable[[int, int], True] = lambda x, y: x < y):\n",
    "#         self.heap = [0]\n",
    "#         self.size = 0\n",
    "#         self.capacity = 1\n",
    "#         self.f = f\n",
    "#\n",
    "#     def insert(self, x: int):\n",
    "#         if self.size >= self.capacity:\n",
    "#             self.heap += [0] * self.capacity\n",
    "#             self.capacity *= 2\n",
    "#\n",
    "#         self.heap[self.size] = x\n",
    "#         self._siftUp(self.size - 1)\n",
    "#         self.size += 1\n",
    "#\n",
    "#     def top(self):\n",
    "#         return self.heap[0]\n",
    "#\n",
    "#     def extract(self):\n",
    "#         top = self.top()\n",
    "#         self.size -= 1\n",
    "#         self.heap[0] = self.heap[self.size]\n",
    "#         self._siftDown(0)\n",
    "#         return top\n",
    "#\n",
    "#     def _siftUp(self, i: int):\n",
    "#         while i > 0 and not self.f(self.heap[i], self.heap[(i - 1) // 2]):\n",
    "#             self.heap[i], self.heap[(i - 1) // 2] = self.heap[(i - 1) // 2], self.heap[i]\n",
    "#             i = (i - 1) // 2\n",
    "#\n",
    "#     def _siftDown(self, i: int):\n",
    "#         while 2 * i + 1 < self.size:\n",
    "#             l = 2 * i + 1\n",
    "#             r = 2 * i + 2\n",
    "#             m = l\n",
    "#             if right < self.\n",
    "#             if self.heap[i] < self.heap[r]:\n",
    "#                 self.heap[i], self.heap[r] = self.heap[r], self.heap[i]\n",
    "#             v = r\n",
    "#\n",
    "#\n",
    "# bh = BinaryHeap()\n",
    "# bh.insert(10)\n",
    "# bh.insert(6)\n",
    "# bh.insert(11)\n",
    "# bh.insert(12)\n",
    "# print(bh.heap)"
   ]
  }
 ],
 "metadata": {
  "kernelspec": {
   "display_name": "Python 3",
   "language": "python",
   "name": "python3"
  },
  "language_info": {
   "codemirror_mode": {
    "name": "ipython",
    "version": 2
   },
   "file_extension": ".py",
   "mimetype": "text/x-python",
   "name": "python",
   "nbconvert_exporter": "python",
   "pygments_lexer": "ipython2",
   "version": "2.7.6"
  }
 },
 "nbformat": 4,
 "nbformat_minor": 0
}
