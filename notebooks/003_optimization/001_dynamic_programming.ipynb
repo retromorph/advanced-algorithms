{
 "cells": [
  {
   "cell_type": "markdown",
   "source": [
    "# Динамическое программирование (Dynamic programming)"
   ],
   "metadata": {
    "collapsed": false
   }
  },
  {
   "metadata": {},
   "cell_type": "markdown",
   "source": "## Введение"
  },
  {
   "metadata": {},
   "cell_type": "markdown",
   "source": [
    "Основная идея метода динамического программирования состоит в том, что если наша задача разбивается на **перекрывающиеся** между собой подзадачи, мы можем не обсчитывать их каждый раз, а сохранять куда-нибудь.\n",
    "\n",
    "Для примера рассмотрим наивный алгоритм для расчета $n$-того числа Фибоначчи"
   ]
  },
  {
   "metadata": {
    "ExecuteTime": {
     "end_time": "2025-05-15T17:47:34.735726Z",
     "start_time": "2025-05-15T17:47:34.732186Z"
    }
   },
   "cell_type": "code",
   "source": [
    "def fibonacci(n):\n",
    "    if n == 0:\n",
    "        return 0\n",
    "    elif n == 1:\n",
    "        return 1\n",
    "\n",
    "    return fibonacci(n - 1) + fibonacci(n - 2)\n",
    "\n",
    "fibonacci(10)"
   ],
   "outputs": [
    {
     "data": {
      "text/plain": [
       "55"
      ]
     },
     "execution_count": 12,
     "metadata": {},
     "output_type": "execute_result"
    }
   ],
   "execution_count": 12
  },
  {
   "metadata": {},
   "cell_type": "markdown",
   "source": [
    "Асимптотика - $O(2^n)$\n",
    "\n",
    "Однако заметим, что при вычислении $F(n)$, $F(n - 2)$ вычисляется дважды (при вычислении $F(n)$ и $F(n - 1)$). $F(n - 3)$ вычисляется уже трижды. В общем случае $F(n - i)$ вычисляется $F(i + 1)$ раз, что очень неэффективно. $F(n - i)$ и есть те самые перекрывающиеся подзадачи.\n",
    "\n",
    "Применим динамическое программирование для оптимизации"
   ]
  },
  {
   "metadata": {},
   "cell_type": "code",
   "outputs": [],
   "execution_count": null,
   "source": [
    "cache = dict()\n",
    "cache[0] = 0\n",
    "cache[1] = 1\n",
    "\n",
    "def fibonacci(n):\n",
    "    if n in cache:\n",
    "        return cache[n]\n",
    "\n",
    "    f_n = fibonacci(n - 1) + fibonacci(n - 2)\n",
    "    cache[n] = f_n\n",
    "    return f_n\n",
    "\n",
    "fibonacci(100)"
   ]
  },
  {
   "metadata": {},
   "cell_type": "markdown",
   "source": [
    "Асимптотика этого решения уже $O(n)$, потому что каждое число фибоначчи от $0$ до $n$ будет записано в кэш лишь один раз.\n",
    "\n",
    "Восходящее/нисходящее дп"
   ]
  },
  {
   "cell_type": "markdown",
   "source": "## Формальная постановка",
   "metadata": {
    "collapsed": false
   }
  },
  {
   "cell_type": "markdown",
   "source": [
    "**Определение:** Дискретная управляемая система (Discrete control system) $\\Omega$ - это упорядоченный набор $\\langle D, q, F, V(x), f(x, v), s(x, v)\\rangle$, где:\n",
    "1. $D$ - конечное множество возможных состояний\n",
    "2. $q \\in D$ - начальное состояние\n",
    "3. $F \\subset D$ - множество финальных состояний\n",
    "4. $V(x)$ - конечное множество возможных в состоянии $x$ управлений\n",
    "5. $f(x, v)$ - функция перехода из состояния $x$ под воздействием управления $v$ в состояние $x' = f(x, v)$\n",
    "6. $s(x, v)$ - функция стоимости за переход\n",
    "\n",
    "**Определение:** Последовательность $T = \\{x_0, x_1, ... , x_n\\}$ называется траекторией системы, если $x_i = f(x^{i - 1}, v_i)$, где $v_i \\in V(x_{i - 1})$\n",
    "\n",
    "**Определение:** Траектория называется полной, если $x_0 = q$, а $x_n \\in F$\n",
    "\n",
    "**Определение:** Введем отношение $P(x, y)$ : $x$ и $y$ называются достижимыми, если существует траектория из $x$ в $y$\n",
    "\n",
    "Очевидно, что отношение P рефлексивно, т. е. $P(x, x)$ и транзитивно, т. е. $P(x, y), P(y, z) \\Rightarrow P(x, z)$\n",
    "\n",
    "Так же, для простоты будем рассматривать только дискретные управляемые системы, на которых отношение $P(x, y)$ будет еще и антисимметричным, т. е. $P(x, y), P(y, x) \\Rightarrow x = y$. Это означает, что в траекториях между состояниями системы не будет циклов\n",
    "\n",
    "**Определение:** Функция стоимости траектории $C(T) = \\sum_{i = 0}^{n} s(x_i, v_i)$\n",
    "\n",
    "**Определение:** Функция Беллмана - $V(x_t) = \\min_{v_t \\in V(x_t)} s(x_t, v_t) + V(x_{t + 1})$\n",
    "\n",
    "**Принцип:** Беллмана (Bellman principle)\n",
    "Если из оптимальности траектории $T = \\{x_0, x_1, ..., x_n\\}$ относительно функции стоимости $С(T)$ следует оптимальность траектории $T(x_i) = \\{x_i, ..., x_n\\}$, то к задаче оптимизации управляющей системы можно применить метод динамического программирования\n",
    "\n",
    "Графовое представление"
   ],
   "metadata": {
    "collapsed": false
   }
  },
  {
   "cell_type": "markdown",
   "source": [
    "## Задача разрезания стержня"
   ],
   "metadata": {
    "collapsed": false
   }
  },
  {
   "metadata": {},
   "cell_type": "markdown",
   "source": [
    "Формулировка задачи:\n",
    "\n",
    "Имеется стержень длиной $n$ и таблица цен $p_i$ за стержень длины $i$. Необходимо найти разрезание стержня, которое принесет максимальную прибыль $r(n)$. Разрезов может быть любое число.\n",
    "\n",
    "Уравнение Беллмана для этой задачи:\n",
    "$r(n) = \\max_{1 \\leq i \\leq n} (p_i + r(n-i))$\n"
   ]
  },
  {
   "cell_type": "code",
   "source": [
    "def cut_rod(p: list, n: int):\n",
    "    r = [0] * (n + 1)\n",
    "    s = [0] * (n + 1)\n",
    "\n",
    "    for i in range(1, n + 1):\n",
    "        q = float(\"-inf\")\n",
    "        for j in range(1, i + 1):\n",
    "            if q < p[j] + r[i - j]:\n",
    "                q = p[j] + r[i - j]\n",
    "                s[i] = j\n",
    "        r[i] = q\n",
    "\n",
    "    return r[-1]\n",
    "\n",
    "cut_rod([0, 1, 5, 8, 9, 10, 17, 17, 20, 24, 30], 10)"
   ],
   "metadata": {
    "collapsed": false,
    "ExecuteTime": {
     "end_time": "2025-05-15T20:21:50.437569Z",
     "start_time": "2025-05-15T20:21:50.423345Z"
    }
   },
   "outputs": [
    {
     "data": {
      "text/plain": [
       "30"
      ]
     },
     "execution_count": 19,
     "metadata": {},
     "output_type": "execute_result"
    }
   ],
   "execution_count": 19
  },
  {
   "cell_type": "markdown",
   "source": [
    "## Расстояние редактирования\n",
    "\n",
    "Пусть в пространстве всевозможных слов $L$ определены 3 операции:\n",
    "1. Замена символа $a$ на $b$\n",
    "2. Вставка элемента $a$ на позицию $\\epsilon$\n",
    "3. Удаление элемента $a$ с позиции $\\epsilon$\n",
    "\n",
    "И для каждой из них определена цена $w$:\n",
    "1. $w(a, b)$ - цена замены\n",
    "2. $w(\\epsilon, b)$ - цена вставки\n",
    "3. $w(a, \\epsilon)$ - цена удаления\n",
    "\n",
    "**Определение:** Расстояние редактирования в пространстве $L$ - это $d(A, B) = \\sum_{i = 1}^n w_i$, где $w_n$ - это минимальная по количеству элементов последовательность операций редактирования\n",
    "\n",
    "Будем рассматривать только те расстояния редактирования $d$, которые являются метриками в пространстве $L$, т.е.:\n",
    "1. $w(a, a) = 0$\n",
    "2. $w(a, b) = w(b, a)$\n",
    "3. $w(a, c) \\le w(a, b) + w(b, c)$\n",
    "\n",
    "**Определение:** Расстояние Левенштейна - расстояние редактирования такое что:\n",
    "1. $w(a, a) = 0$\n",
    "2. $w(a, b) = 1$\n",
    "3. $w(\\epsilon, b) = 1$\n",
    "4. $w(a, \\epsilon) = 1$\n",
    "\n",
    "Уравнение Беллмана для расстояния редактирования:\n",
    "$d_{A, B}(i, j)= $\n",
    "1. $0$, $i = j$\n",
    "2. $i \\cdot deleteCost$, $i > 0, j = 0$\n",
    "3. $j \\cdot insertCost$, $i = 0, j > 0$\n",
    "4. $d(i - 1, j - 1)$, $A_i = B_i$\n",
    "5. $min(d(i, j - 1) + insertCost, d(i - 1, j) + deleteCost, d(i - 1, j - 1) + replaceCost)$"
   ],
   "metadata": {
    "collapsed": false
   }
  },
  {
   "cell_type": "code",
   "source": [
    "def redaction_d(A: str, B: str, insertionCost: int = 1, deleteCost: int = 1, replaceCost: int = 1) -> int:\n",
    "    dp = [None] * (len(B) + 1)\n",
    "    for i in range(len(B) + 1):\n",
    "        dp[i] = [0] * (len(A) + 1)\n",
    "    for i in range(1, (len(B) + 1)):\n",
    "        dp[i][0] = i * deleteCost\n",
    "    for i in range(1, (len(A) + 1)):\n",
    "        dp[0][i] = i * insertionCost\n",
    "\n",
    "    for i in range(1, (len(B) + 1)):\n",
    "        for j in range(1, (len(A) + 1)):\n",
    "            if B[i - 1] == A[j - 1]:\n",
    "                dp[i][j] = dp[i - 1][j - 1]\n",
    "            else:\n",
    "                dp[i][j] = min(dp[i][j - 1] + insertionCost, dp[i - 1][j] + deleteCost, dp[i - 1][j - 1] + replaceCost)\n",
    "\n",
    "    return dp[len(B)][len(A)]\n",
    "\n",
    "redaction_d(\"wlhauodia\", \"wwahauobrt\")"
   ],
   "metadata": {
    "collapsed": false,
    "ExecuteTime": {
     "end_time": "2025-05-15T21:02:24.606075Z",
     "start_time": "2025-05-15T21:02:24.597435Z"
    }
   },
   "outputs": [
    {
     "data": {
      "text/plain": [
       "5"
      ]
     },
     "execution_count": 21,
     "metadata": {},
     "output_type": "execute_result"
    }
   ],
   "execution_count": 21
  },
  {
   "metadata": {},
   "cell_type": "markdown",
   "source": "## LCM"
  },
  {
   "metadata": {
    "ExecuteTime": {
     "end_time": "2025-05-15T21:00:50.222537Z",
     "start_time": "2025-05-15T21:00:50.217944Z"
    }
   },
   "cell_type": "code",
   "source": [
    "def lcs(A: str, B: str) -> int:\n",
    "    dp = [[0] * (len(A) + 1) for _ in range(len(B) + 1)]\n",
    "\n",
    "    for i in range(1, len(B) + 1):\n",
    "        for j in range(1, len(A) + 1):\n",
    "            if B[i - 1] == A[j - 1]:\n",
    "                dp[i][j] = dp[i - 1][j - 1] + 1\n",
    "            else:\n",
    "                dp[i][j] = max(dp[i - 1][j], dp[i][j - 1])\n",
    "\n",
    "    return dp[len(B)][len(A)]"
   ],
   "outputs": [],
   "execution_count": 20
  },
  {
   "metadata": {},
   "cell_type": "markdown",
   "source": "## Битоническая евклидова задача о коммивояжере"
  },
  {
   "metadata": {
    "ExecuteTime": {
     "end_time": "2025-05-15T22:00:10.988787Z",
     "start_time": "2025-05-15T22:00:10.981965Z"
    }
   },
   "cell_type": "code",
   "source": [
    "import math\n",
    "\n",
    "def bitonic_tsp(points):\n",
    "    points.sort(key=lambda p: (p[0], p[1]))\n",
    "    n = len(points)\n",
    "    if n == 0:\n",
    "        return 0\n",
    "\n",
    "    dp = [[math.inf] * (n + 1) for _ in range(n + 1)]\n",
    "    dp[1][1] = 0\n",
    "\n",
    "    dist = [[0] * n for _ in range(n)]\n",
    "    for i in range(n):\n",
    "        for j in range(n):\n",
    "            dx = points[i][0] - points[j][0]\n",
    "            dy = points[i][1] - points[j][1]\n",
    "            dist[i][j] = math.hypot(dx, dy)\n",
    "\n",
    "    # Заполнение таблицы DP\n",
    "    for i in range(1, n):\n",
    "        for j in range(1, i + 1):\n",
    "            # Обновление правой ветви (i+1 идет вправо)\n",
    "            dp[i+1][j] = min(dp[i+1][j], dp[i][j] + dist[i-1][i])\n",
    "\n",
    "            # Обновление левой ветви (i+1 идет влево)\n",
    "            dp[i+1][i] = min(dp[i+1][i], dp[i][j] + dist[j-1][i])\n",
    "\n",
    "    # Вычисляем финальный результат, замыкая тур\n",
    "    result = dp[n][n-1] + dist[n-2][n-1]\n",
    "    return result\n",
    "\n",
    "points = [(0, 0), (1, 0), (2, 0)]\n",
    "print(bitonic_tsp(points))"
   ],
   "outputs": [
    {
     "name": "stdout",
     "output_type": "stream",
     "text": [
      "4.0\n"
     ]
    }
   ],
   "execution_count": 23
  },
  {
   "metadata": {},
   "cell_type": "code",
   "outputs": [],
   "execution_count": null,
   "source": ""
  }
 ],
 "metadata": {
  "kernelspec": {
   "display_name": "Python 3",
   "language": "python",
   "name": "python3"
  },
  "language_info": {
   "codemirror_mode": {
    "name": "ipython",
    "version": 2
   },
   "file_extension": ".py",
   "mimetype": "text/x-python",
   "name": "python",
   "nbconvert_exporter": "python",
   "pygments_lexer": "ipython2",
   "version": "2.7.6"
  }
 },
 "nbformat": 4,
 "nbformat_minor": 0
}
