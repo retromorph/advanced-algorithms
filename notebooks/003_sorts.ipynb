{
 "cells": [
  {
   "cell_type": "markdown",
   "source": [
    "# Сортировки"
   ],
   "metadata": {
    "collapsed": false
   }
  },
  {
   "cell_type": "markdown",
   "source": [
    "## Введение"
   ],
   "metadata": {
    "collapsed": false
   }
  },
  {
   "cell_type": "markdown",
   "source": [
    "**Определение:** Задача сортировки (Sorting problem)\n",
    "Вход: Последовательность из n чисел $\\left\\langle a_1, ..., a_n \\right\\rangle$\n",
    "Выход: Перестановка входной последовательности $\\left\\langle a'_1, ..., a'_n \\right\\rangle$, такая что $a_1 \\le ... \\le a_n$\n",
    "\n",
    "**Определение:** Сортировка сравнением (Comparison sort) - алгоритм сортировки использующий для упорядочивания только сравнение входных элементов между собой\n",
    "\n",
    "**Определение:** Устойчивая сортировка (Stable sort) - сортировка сохраняющая порядок эквивалентных по ключу сортировки элементов в отсортированном массиве\n",
    "\n",
    "**Определение:** Сортировка на месте (Inplace sort) - сортировка требующая не более чем $O(\\log(n))$ дополнительной памяти\n",
    "\n",
    "**Определение:** Инверсия массива $A_n$ - это пара чисел $i < j$ : $A_i > A_j$\n",
    "\n",
    "Примеры:\n",
    "\n",
    "1. В массиве \\[5, 4, 1, 2, 3\\] 7 инверсий: 4 с пятеркой и 3 с четверкой\n",
    "2. В отсортированном массиве, очевидно, нет инверсий"
   ],
   "metadata": {
    "collapsed": false
   }
  },
  {
   "cell_type": "markdown",
   "source": [
    "Пусть, без ограничения общности, все элементы последовательности различны и для сравнения используется только оператор $\\le$\n",
    "\n",
    "**Теорема о нижней границе сортировки сравнением (about lower bound for comparison based sorting)**\n",
    "Любой алгоритм сортировки сравнением в наихудшем случае требует $\\Omega(n\\log(n))$ операций сравнения\n",
    "$\\square$\n",
    "Представим сортировку массива из $n$ элементов как бинарное дерево, листами которого будут перестановки элементов массива, остальные же узлы будут задавать сравнения двух элементов. Пусть его высота равна $h$, а кол-во листьев $l$.\n",
    "\n",
    "Пример такого дерева для сортировки вставками 3-x элементного массива:\n",
    "<br/>\n",
    "<img src=\"../static/IMG_C6BD55B53A7C-1.jpeg\" width=\"700\"/>\n",
    "\n",
    "В общем случае нам не важно, как выглядит дерево. Но, очевидно, количество его листьев должно быть не меньше, чем число всевозможных перестановок из $n$ элементов (обратное бы значило, что наш алгоритм не умеет сортировать некоторые массивы). Таким образом:\n",
    "$n! \\le l$\n",
    "С другой стороны, из свойств бинарного дерева вытекает, что\n",
    "$n! \\le l \\le 2^h$\n",
    "Прологарифмируем обе части:\n",
    "$h \\ge log_2(n!)$\n",
    "Можно доказать, что $log_2(n!) = \\Omega(n\\log(n))$, таким образом\n",
    "$h = \\Omega(n\\log(n))$\n",
    "По сути h, высота дерева, это длина наибольшего пути из листа, являющегося перестановкой массива, в корневую вершину, т.е. - это и есть количество сравнений в наихудшем случае\n",
    "$\\blacksquare$\n",
    "\n",
    "**Следствие**\n",
    "Ни одна сортировка сравнением не может иметь время работы лучше, чем $O(n\\log(n))$"
   ],
   "metadata": {
    "collapsed": false
   }
  },
  {
   "cell_type": "markdown",
   "source": [
    "### Сортировка вставками (Insertions sort)"
   ],
   "metadata": {
    "collapsed": false
   }
  },
  {
   "cell_type": "markdown",
   "source": [
    "**Идея:** Идем по массиву, встречаем инверсию, записываем наименьший элемент в переменную, в результате чего в массиве появляется свободная ячейка — это позволяет сдвинуть элементы и освободить место для вставки."
   ],
   "metadata": {
    "collapsed": false
   }
  },
  {
   "cell_type": "code",
   "execution_count": 121,
   "outputs": [
    {
     "data": {
      "text/plain": "[1, 2, 3, 4, 5]"
     },
     "execution_count": 121,
     "metadata": {},
     "output_type": "execute_result"
    }
   ],
   "source": [
    "def insertions_sort(A: list, l: int, r: int) -> list:\n",
    "    for i in range(l + 1, r):\n",
    "        j = i - 1\n",
    "        pivot = A[i]\n",
    "        while A[j] > pivot and j >= 0:\n",
    "            A[j + 1] = A[j]\n",
    "            j -= 1\n",
    "        A[j + 1] = pivot\n",
    "    return A\n",
    "\n",
    "A1 = [5, 3, 1, 2, 4]\n",
    "insertions_sort(A1, 0, len(A1))\n",
    "A1"
   ],
   "metadata": {
    "collapsed": false
   }
  },
  {
   "cell_type": "markdown",
   "source": [
    "**Теорема**\n",
    "insertions_sort сортирует массив на промежутке $[l, r)$\n",
    "$\\square$\n",
    "Инвариант: префикс массива $A_{l,i + 1}$ отсортирован\n",
    "Инициализация: префикс $A_{l,l}$ отсортирован\n",
    "Сохранение: В предположении индукции $A_{l,i + 1}$ отсортирован, при переходе к $i + 2$ есть два случая:\n",
    "\n",
    "1. $A_{i + 1} < A_{i + 2}$, тогда префикс до $i + 2$ уже отсортирован\n",
    "2. $A_{i + 1} > A_{i + 2}$, тогда внутренний цикл вставит $A_{i + 2}$ на свою позицию и префикс до $i + 2$ тоже будет отсортирован\n",
    "\n",
    "Завершение: По завершении функции i = r - 1, т.е. префикс $A_{l,r}$, совпадающий со всем массивом на промежутке $[l, r)$ будет отсортирован\n",
    "$\\blacksquare$\n",
    "<br/>\n",
    "**Теорема**\n",
    "Асимптотика insertions_sort - $\\Theta(n + inv)$, где $inv$ - количество инверсий\n",
    "$\\square$\n",
    "Методом прямого подсчета:\n",
    "$T(n) = \\Theta\\bigg(\\sum_{i = 0}^{n - 1}(1 + inv(A_i))\\bigg) = \\Theta\\bigg(n + \\sum_{i = 0}^{n - 1} inv(A_i)\\bigg) = \\Theta(n + inv)$\n",
    "$\\blacksquare$\n",
    "**Следствие**\n",
    "Асимптотика insertions_sort в худшем случае - $O(n^2)$\n",
    "\n",
    "**Следствие**\n",
    "Асимптотика insertions_sort в лучшем случае - $\\Omega(n)$ (случай отсортированного массива)\n",
    "\n",
    "**Следствие**\n",
    "Асимптотика insertions_sort в среднем случае $\\Theta_{avg}(n^2)$\n",
    "<br/>\n",
    "**Замечание**: insertions_sort занимает $O(1)$ дополнительной памяти, а значит является inplace сортировкой\n",
    "\n",
    "**Замечание**: insertions_sort является устойчивой сортировкой. Действительно, она проходится по массиву слева направо и вставляет элемент на самую правую подходящую позицию.\n",
    "\n",
    "**Замечание**: insertions_sort быстро работает на частично отсортированных массивах. Она часто используется как финальный этап более быстрых сортировок"
   ],
   "metadata": {
    "collapsed": false
   }
  },
  {
   "cell_type": "markdown",
   "source": [
    "Чуть подсокращенная версия (но она помедленнее)"
   ],
   "metadata": {
    "collapsed": false
   }
  },
  {
   "cell_type": "code",
   "execution_count": 1,
   "outputs": [
    {
     "data": {
      "text/plain": "[1, 2, 3, 4, 5]"
     },
     "execution_count": 1,
     "metadata": {},
     "output_type": "execute_result"
    }
   ],
   "source": [
    "def insertions_sort_shortened(A: list, l: int, r: int) -> list:\n",
    "    for i in range(l + 1, r):\n",
    "        j = i - 1\n",
    "        while A[j] > A[j + 1] and j >= 0:\n",
    "            A[j + 1], A[j] = A[j], A[j + 1]\n",
    "            j -= 1\n",
    "    return A\n",
    "\n",
    "A1 = [5, 3, 1, 2, 4]\n",
    "insertions_sort_shortened(A1, 0, len(A1))\n",
    "A1"
   ],
   "metadata": {
    "collapsed": false
   }
  },
  {
   "cell_type": "markdown",
   "source": [
    "## Сортировка слиянием (Merge sort)"
   ],
   "metadata": {
    "collapsed": false
   }
  },
  {
   "cell_type": "markdown",
   "source": [
    "**Идея:** Сортировка слиянием - алгоритм сортировки сравнением типа разделяй и властвуй:\n",
    "Разделение: Разделяем входную последовательность на две примерно равные части\n",
    "Властвование: Сортируем их отдельно (как правило, с помощью самой же сортировки слиянием)\n",
    "Комбинирование: Сливаем две отсортированные последовательности в один массив\n",
    "\n",
    "Разберемся сначала с функцией слияния двух отсортированных массивов. Реализуем ее с помощью метода двух указателей:"
   ],
   "metadata": {
    "collapsed": false
   }
  },
  {
   "cell_type": "code",
   "execution_count": 133,
   "outputs": [
    {
     "data": {
      "text/plain": "[1, 2, 2, 2, 4, 5, 7, 9]"
     },
     "execution_count": 133,
     "metadata": {},
     "output_type": "execute_result"
    }
   ],
   "source": [
    "def merge(L: list, R: list) -> list:\n",
    "    i = 0\n",
    "    j = 0\n",
    "    M = []\n",
    "    while i < len(L) and j < len(R):\n",
    "        if L[i] <= R[j]:\n",
    "            M.append(L[i])\n",
    "            i += 1\n",
    "        else:\n",
    "            M.append(R[j])\n",
    "            j += 1\n",
    "\n",
    "    while i < len(L):\n",
    "        M.append(L[i])\n",
    "        i += 1\n",
    "\n",
    "    while j < len(R):\n",
    "        M.append(R[j])\n",
    "        j += 1\n",
    "\n",
    "    return M\n",
    "\n",
    "A1 = [1, 2, 5, 7]\n",
    "B1 = [2, 2, 4, 9]\n",
    "merge(A1, B1)"
   ],
   "metadata": {
    "collapsed": false
   }
  },
  {
   "cell_type": "markdown",
   "source": [
    "**Теорема**\n",
    "Функция merge сливает два отсортированных массива в один отсортированный\n",
    "$\\square$\n",
    "Инвариант цикла: $M$ отсортирован\n",
    "Инициализация: $M$ - пустой массив, а значит отсортирован\n",
    "Сохранение: В предположении индукции, при $n = i + j$ $R$ отсортирован, при переходе к $n + 1$ есть два случая:\n",
    "1. $L_i <= R_j$, тогда $L_i >= M_n$ и $M_{n + 1}$ будет отсортирован\n",
    "2. $L_i > R_j$, тогда $R_i >= M_n$ и $M_{n + 1}$ будет отсортирован\n",
    "\n",
    "Завершение: В конце из L и R остается один не закончившийся массив, все его элементы добавляются в M_n\n",
    "$\\blacksquare$\n",
    "\n",
    "Асимптотика, методом прямого подсчета, - $\\Theta(max(n, m))$, где $n$ - длина $A$, $m$ - длина $B$.\n",
    "Асимптотика по памяти - $\\Theta(n + m)$\n",
    "\n",
    "Перейдем к самой сортировке слиянием:"
   ],
   "metadata": {
    "collapsed": false
   }
  },
  {
   "cell_type": "code",
   "execution_count": 134,
   "outputs": [
    {
     "data": {
      "text/plain": "[1, 2, 3, 5, 8, 9, 10, 11]"
     },
     "execution_count": 134,
     "metadata": {},
     "output_type": "execute_result"
    }
   ],
   "source": [
    "def merge_sort(A: list) -> list:\n",
    "    if len(A) == 1:\n",
    "        return A\n",
    "\n",
    "    mid = len(A) // 2\n",
    "    L = merge_sort(A[:mid])\n",
    "    R = merge_sort(A[mid:])\n",
    "    return merge(L, R)\n",
    "\n",
    "A1 = [10, 9, 5, 11, 2, 3, 8, 1]\n",
    "merge_sort(A1)"
   ],
   "metadata": {
    "collapsed": false
   }
  },
  {
   "cell_type": "markdown",
   "source": [
    "Корректность работы merge_sort вытекает из корректности работы merge.\n",
    "\n",
    "**Теорема**\n",
    "Асимптотика merge_sort - $\\Theta(n\\log(n))$\n",
    "$\\square$\n",
    "$T(n) = 2 \\cdot T\\bigg(\\frac{n}{2}\\bigg) + \\Theta(n) = 4 \\cdot T\\bigg(\\frac{n}{4}\\bigg) + 2\\Theta(n) = ... $\n",
    "$ ... = \\Theta(n\\log(n))$\n",
    "$\\blacksquare$\n",
    "\n",
    "**Следствие**\n",
    "Т.е. сортировка слиянием достигает теоретического асимптотического минимума сортировки сравнением\n",
    "\n",
    "**Замечание:** Сортировка слиянием занимает $O(n)$ памяти, то есть является не inplace\n",
    "\n",
    "**Замечание:** Сортировка слиянием является устойчивой\n",
    "\n",
    "**Замечание:** Нужно, к слову, заметить, что merge sort работает совершенно одинаково и на полностью случайных массивах, и на частично упорядоченных, в отличии, например, от сортировки вставками"
   ],
   "metadata": {
    "collapsed": false
   }
  },
  {
   "cell_type": "markdown",
   "source": [
    "С помощью сортировки слиянием можно легко посчитать количество инверсий в массиве.\n",
    "\n",
    "**Идея:** При каждом слиянии подмассивов в алгоритме Merge sort мы разрешаем некоторое количество инверсий, которое мы можем подсчитать в функции merge."
   ],
   "metadata": {
    "collapsed": false
   }
  },
  {
   "cell_type": "code",
   "execution_count": 2,
   "outputs": [
    {
     "data": {
      "text/plain": "([1, 2, 3, 4], 6)"
     },
     "execution_count": 2,
     "metadata": {},
     "output_type": "execute_result"
    }
   ],
   "source": [
    "def merge_inversions(L: list, R: list) -> (list, int):\n",
    "    i = 0\n",
    "    j = 0\n",
    "    M = []\n",
    "    I = 0\n",
    "    while i < len(L) and j < len(R):\n",
    "        if L[i] <= R[j]:\n",
    "            M.append(L[i])\n",
    "            i += 1\n",
    "        else:\n",
    "            I += len(L) - i\n",
    "            M.append(R[j])\n",
    "            j += 1\n",
    "\n",
    "    while i < len(L):\n",
    "        M.append(L[i])\n",
    "        i += 1\n",
    "\n",
    "    while j < len(R):\n",
    "        M.append(R[j])\n",
    "        j += 1\n",
    "\n",
    "    return M, I\n",
    "\n",
    "def merge_sort_inversions(A: list) -> (list, int):\n",
    "    if len(A) == 1:\n",
    "        return A, 0\n",
    "\n",
    "    mid = len(A) // 2\n",
    "    L, I_l = merge_sort_inversions(A[:mid])\n",
    "    R, I_r = merge_sort_inversions(A[mid:])\n",
    "    M, I = merge_inversions(L, R)\n",
    "    return M, I_l + I_r + I\n",
    "\n",
    "A1 = [4, 3, 2, 1]\n",
    "merge_sort_inversions(A1)"
   ],
   "metadata": {
    "collapsed": false
   }
  },
  {
   "cell_type": "markdown",
   "source": [
    "**Теорема**\n",
    "merge_sort_inversions возвращает количество инверсий\n",
    "$\\square$\n",
    "Докажем сначала, что merge_inversions возвращает кол-во инверсий в массиве вида L + R:\n",
    "Действительно, I увеличивается на количество оставшихся элементов в L, каждый раз когда в M добавляется элемент из\n",
    "R. Так как L и R по отдельности отсортированы, в I и будет количество инверсий L + R.\n",
    "\n",
    "При комбинации в merge_sort_inversions суммируется количество инверсий левого подмассива, правого подмассива и количество инверсий при их слиянии, что и дает нам итоговое количество инверсий в массиве.\n",
    "$\\blacksquare$\n",
    "\n",
    "Очевидно, этот алгоритм имеет такие же асимптотические оценки, что и сама сортировка слиянием"
   ],
   "metadata": {
    "collapsed": false
   }
  },
  {
   "cell_type": "markdown",
   "source": [
    "## Быстрая сортировка"
   ],
   "metadata": {
    "collapsed": false
   }
  },
  {
   "cell_type": "markdown",
   "source": [
    "**Определение:** Быстрая сортировка - алгоритм сортировки сравнением типа разделяй и властвуй:\n",
    "Разделение: Выбирается опорный элемент. Массив разбивается на два подмассива, элементы первого меньше опорного, элементы второго больше.\n",
    "Властвование: Подмассивы рекурсивно сортируются с помощью быстрой сортировки\n",
    "Комбинирование: Не требуется, тк быстрая сортировка выполняется inplace"
   ],
   "metadata": {
    "collapsed": false
   }
  },
  {
   "cell_type": "code",
   "execution_count": 3,
   "outputs": [
    {
     "data": {
      "text/plain": "5"
     },
     "execution_count": 3,
     "metadata": {},
     "output_type": "execute_result"
    }
   ],
   "source": [
    "import random\n",
    "\n",
    "def partition(A: list, l: int, r: int) -> int:\n",
    "    pivot = random.randint(l, r - 1)\n",
    "    A[pivot], A[r - 1] = A[r - 1], A[pivot]\n",
    "    i = l - 1\n",
    "    for j in range(l, r):\n",
    "        if A[r - 1] >= A[j]:\n",
    "            i += 1\n",
    "            A[i], A[j] = A[j], A[i]\n",
    "    return i\n",
    "\n",
    "partition([2, 3, 3, 3, 1, -2, 4], 0, 6)"
   ],
   "metadata": {
    "collapsed": false
   }
  },
  {
   "cell_type": "markdown",
   "source": [
    "Асимптотика методом прямого подсчета $O(n)$\n",
    "\n",
    "Докажем, что partition работает корретно, т.е. перестанавливает элементы массива относительно опорного элемента так, что первые i + 1 членов <= опорного элемента, в оставшиеся > опорного элемента.\n",
    "$\\square$\n",
    "Инвариант: все элементы <= i меньше или равны опорного элемента\n",
    "База: при j = 0, i = -1, т.о. инвариант сохраняется\n",
    "Индукция: при j, i\n",
    "$\\forall n \\le i \\Rightarrow a_n \\le pivot$\n",
    "\n",
    "При j + 1:\n",
    "Вариант 1: $pivot < a_{j + 1}$ => инвариант сохраняется без изменения i или массива\n",
    "Вариант 2: $pivot \\ge a_{j + 1}$ => увеличим i на 1 и переставим $a_{j + 1}$ на позицию $a_{i + 1}$ => инвариант сохраняется\n",
    "$\\blacksquare$"
   ],
   "metadata": {
    "collapsed": false
   }
  },
  {
   "cell_type": "code",
   "execution_count": 103,
   "outputs": [
    {
     "data": {
      "text/plain": "9"
     },
     "execution_count": 103,
     "metadata": {},
     "output_type": "execute_result"
    }
   ],
   "source": [
    "def qsort(xs: list, l: int, r: int) -> list:\n",
    "    global c\n",
    "    if r - l <= 1:\n",
    "        return xs\n",
    "    mid = partition(xs, l, r)\n",
    "    qsort(xs, l, mid)\n",
    "    qsort(xs, mid, r)\n",
    "    return xs"
   ],
   "metadata": {
    "collapsed": false
   }
  },
  {
   "cell_type": "markdown",
   "source": [
    "Дополнительное"
   ],
   "metadata": {
    "collapsed": false
   }
  },
  {
   "cell_type": "code",
   "execution_count": null,
   "outputs": [],
   "source": [
    "def merge(xs: list, ys: list) -> list:\n",
    "    for i in range(len(xs)):\n",
    "        if xs[i] > ys[0]:\n",
    "            xs[i], ys[0] = ys[0], xs[i]\n",
    "            first = ys[0]\n",
    "            k = 1\n",
    "            while k < len(ys) and ys[k] < first:\n",
    "                ys[k - 1] = ys[k]\n",
    "                k += 1\n",
    "            ys[k - 1] = first\n",
    "\n",
    "n = int(input())\n",
    "xs = list(map(int, input().strip().split()))[:n]\n",
    "m = int(input())\n",
    "ys = list(map(int, input().strip().split()))[:m]\n",
    "\n",
    "merge(xs, ys)\n",
    "print(*(xs + ys))\n",
    "\n",
    "import random\n",
    "\n",
    "# [l, r)\n",
    "# <pivot =pivot >pivot\n",
    "def partition(xs: list, l: int, r: int) -> list:\n",
    "    # pivot = xs[random.randint(l, r - 1)]\n",
    "    pivot = 3\n",
    "    x = l\n",
    "    y = l\n",
    "    for i in range(l, r):\n",
    "        if xs[i] == pivot:\n",
    "            xs[i], xs[y] = xs[y], xs[i]\n",
    "            y += 1\n",
    "        elif xs[i] < pivot:\n",
    "            xs[i], xs[x] = xs[x], xs[i]\n",
    "            if x != y: xs[y], xs[i] = xs[i], xs[y]\n",
    "            x += 1\n",
    "            y += 1\n",
    "    return xs\n",
    "\n",
    "partition([5, 2, 3, 1, -2, 4], 0, 6)"
   ],
   "metadata": {
    "collapsed": false
   }
  }
 ],
 "metadata": {
  "kernelspec": {
   "display_name": "Python 3",
   "language": "python",
   "name": "python3"
  },
  "language_info": {
   "codemirror_mode": {
    "name": "ipython",
    "version": 2
   },
   "file_extension": ".py",
   "mimetype": "text/x-python",
   "name": "python",
   "nbconvert_exporter": "python",
   "pygments_lexer": "ipython2",
   "version": "2.7.6"
  }
 },
 "nbformat": 4,
 "nbformat_minor": 0
}
