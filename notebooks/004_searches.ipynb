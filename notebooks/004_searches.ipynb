{
 "cells": [
  {
   "cell_type": "markdown",
   "source": [
    "# Алгоритмы поиска в массиве"
   ],
   "metadata": {
    "collapsed": false
   }
  },
  {
   "cell_type": "markdown",
   "source": [
    "## Введение"
   ],
   "metadata": {
    "collapsed": false
   }
  },
  {
   "cell_type": "markdown",
   "source": [
    "**Определение:** Задача поиска в массиве (Search in array problem)\n",
    "Вход: Число $k$ и массив из $n$ чисел $\\langle a_1, ..., a_n \\rangle$\n",
    "Выход: Позиция $i$ элемента $k$ в массиве $A$, либо $-1$, если $k$ в $A$ нет\n",
    "\n",
    "**Правосторонний поиск:** Поиск при котором если $\\exists i > j : A_i = A_j = k$, то ответом будет индекс $i$ (наибольший)\n",
    "\n",
    "**Левосторонний поиск:** Поиск при котором если $\\exists i > j : A_i = A_j = k$, то ответом будет индекс $j$ (наименьший)"
   ],
   "metadata": {
    "collapsed": false
   }
  },
  {
   "cell_type": "markdown",
   "source": [
    "## Бинарный поиск"
   ],
   "metadata": {
    "collapsed": false
   }
  },
  {
   "cell_type": "markdown",
   "source": [
    "Пусть массив $A$ отсортирован\n",
    "\n",
    "**Идея:** Приходим в элемент посередине, смотрим, больше он, чем искомый или меньше, в зависимости от этого переходим в левых/правый подмассив\n"
   ],
   "metadata": {
    "collapsed": false
   }
  },
  {
   "cell_type": "code",
   "execution_count": 2,
   "outputs": [
    {
     "data": {
      "text/plain": "3"
     },
     "execution_count": 2,
     "metadata": {},
     "output_type": "execute_result"
    }
   ],
   "source": [
    "def binsearch_left(A, key):\n",
    "    l = -1\n",
    "    r = len(A)\n",
    "    while r - l > 1:\n",
    "        m = (l + r) // 2\n",
    "        if A[m] < key:\n",
    "            l = m\n",
    "        else:\n",
    "            r = m\n",
    "    return r if r != len(A) else -1\n",
    "\n",
    "A = [1, 2, 3, 4, 4, 5, 6, 7, 8, 9, 10]\n",
    "binsearch_left(A, 4)"
   ],
   "metadata": {
    "collapsed": false
   }
  },
  {
   "cell_type": "markdown",
   "source": [
    "**Теорема**\n",
    "binsearch_left выполняет задачу поиска на отсортированном массиве A\n",
    "$\\square$\n",
    "Случай 1: $key \\in (A_l, A_r]$\n",
    "Инвариант: $key \\in (A_l, A_r]$\n",
    "Инициализация: $key \\in (A_{l_1}, A_{r_1}]$\n",
    "Сохранение: В предположении индукции $key \\in (A_{l_k}, A_{r_k}]$. Тогда если\n",
    "$A_{\\lfloor \\frac{l_k + r_k}{2} \\rfloor} < key$, то $l_{k + 1} = \\lfloor \\frac{l_k + r_k}{2} \\rfloor$, в обратном случае $r_{k + 1} = \\lfloor \\frac{l_k + r_k}{2} \\rfloor$, т.о. $key \\in (A_{l_{k + 1}}, A_{r_{k + 1}}]$\n",
    "Завершение: в момент, когда возрастающая последовательность $l_k$ и убывающая последовательность $r_k$ встретятся в точке $k'$, останется один элемент $A_{r_{k'}}$, который либо равен $key$ и тогда binsearch_left вернет $r_{k'}$, либо не равен и тогда binsearch_left вернет $-1$\n",
    "\n",
    "Случай 2: $key \\notin (A_l, A_r]$\n",
    "Думаю, ситуация в этом случае очевидна, $l_k$ будет возрастать, пока не встретится с $r_k$, которая меняться не будет. Так как $key \\notin (A_l, A_r]$, binsearch_left вернет $-1$\n",
    "$\\blacksquare$\n",
    "\n",
    "**Теорема**\n",
    "binsearch_left имеет асимптотику $\\theta(\\log(n))$\n",
    "$\\square$\n",
    "$T(n) = T(n / 2) + 1$, т.о.\n",
    "$T(n) = \\Theta(\\log(n))$\n",
    "$\\blacksquare$"
   ],
   "metadata": {
    "collapsed": false
   }
  },
  {
   "cell_type": "markdown",
   "source": [
    "Аналогично можно ввести правосторонний бинпоиск"
   ],
   "metadata": {
    "collapsed": false
   }
  },
  {
   "cell_type": "code",
   "execution_count": 3,
   "outputs": [
    {
     "data": {
      "text/plain": "4"
     },
     "execution_count": 3,
     "metadata": {},
     "output_type": "execute_result"
    }
   ],
   "source": [
    "def binsearch_right(A, key):\n",
    "    l = -1\n",
    "    r = len(A)\n",
    "    while r - l > 1:\n",
    "        m = (l + r) // 2\n",
    "        if A[m] <= key:\n",
    "            l = m\n",
    "        else:\n",
    "            r = m\n",
    "    return l\n",
    "\n",
    "A = [1, 2, 3, 4, 4, 5, 6, 7, 8, 9, 10]\n",
    "binsearch_right(A, 4)"
   ],
   "metadata": {
    "collapsed": false
   }
  },
  {
   "cell_type": "markdown",
   "source": [
    "**Замечание:** Бинарный поиск можно использовать на любой монотонной функции, в том числе и вещественной\n",
    "\n",
    "**Замечание:** Если задачу можно переформулировать в виде \"найдите максимальное $X$, такое что какое-то свойство от X выполняется\", то ее можно решать с помощью бинпоиска. Такой метод называется бинарный поиск по ответу"
   ],
   "metadata": {
    "collapsed": false
   }
  },
  {
   "cell_type": "code",
   "execution_count": null,
   "outputs": [],
   "source": [],
   "metadata": {
    "collapsed": false
   }
  }
 ],
 "metadata": {
  "kernelspec": {
   "display_name": "Python 3",
   "language": "python",
   "name": "python3"
  },
  "language_info": {
   "codemirror_mode": {
    "name": "ipython",
    "version": 2
   },
   "file_extension": ".py",
   "mimetype": "text/x-python",
   "name": "python",
   "nbconvert_exporter": "python",
   "pygments_lexer": "ipython2",
   "version": "2.7.6"
  }
 },
 "nbformat": 4,
 "nbformat_minor": 0
}
