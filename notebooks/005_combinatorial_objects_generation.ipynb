{
 "cells": [
  {
   "cell_type": "markdown",
   "source": [
    "# Генерация комбинаторных объектов"
   ],
   "metadata": {
    "collapsed": false
   }
  },
  {
   "cell_type": "markdown",
   "source": [
    "## Генерация перестановок"
   ],
   "metadata": {
    "collapsed": false
   }
  },
  {
   "cell_type": "markdown",
   "source": [
    "**Задача:**\n",
    "Вход: $A = \\langle a_1, ..., a_n \\rangle$\n",
    "Выход: множество всех перестановок A\n",
    "\n",
    "**Идея:**"
   ],
   "metadata": {
    "collapsed": false
   }
  },
  {
   "cell_type": "code",
   "execution_count": 18,
   "outputs": [
    {
     "name": "stdout",
     "output_type": "stream",
     "text": [
      "[1, 2, 3]\n",
      "[1, 3, 2]\n",
      "[2, 1, 3]\n",
      "[2, 3, 1]\n",
      "[3, 2, 1]\n",
      "[3, 1, 2]\n"
     ]
    }
   ],
   "source": [
    "def gen_permutations(A: list, t: int):\n",
    "    if t == len(A) - 1:\n",
    "        print(A)\n",
    "    else:\n",
    "        for i in range(t, len(A)):\n",
    "            A[t], A[i] = A[i], A[t]\n",
    "            t += 1\n",
    "            gen_permutations(A, t)\n",
    "            t -= 1\n",
    "            A[t], A[i] = A[i], A[t]\n",
    "\n",
    "gen_permutations([1, 2, 3], 0)"
   ],
   "metadata": {
    "collapsed": false
   }
  },
  {
   "cell_type": "markdown",
   "source": [
    "итеративный"
   ],
   "metadata": {
    "collapsed": false
   }
  },
  {
   "cell_type": "code",
   "execution_count": null,
   "outputs": [],
   "source": [
    "def next_permutation(A):\n"
   ],
   "metadata": {
    "collapsed": false
   }
  },
  {
   "cell_type": "markdown",
   "source": [
    "## Генерация размещений"
   ],
   "metadata": {
    "collapsed": false
   }
  },
  {
   "cell_type": "markdown",
   "source": [],
   "metadata": {
    "collapsed": false
   }
  },
  {
   "cell_type": "code",
   "execution_count": 36,
   "outputs": [
    {
     "name": "stdout",
     "output_type": "stream",
     "text": [
      "1 2\n",
      "1 3\n",
      "2 1\n",
      "2 3\n",
      "3 1\n",
      "3 2\n"
     ]
    }
   ],
   "source": [
    "A = [1, 2, 3]\n",
    "n = 3\n",
    "m = 2\n",
    "used = [False] * (n + 1)\n",
    "a = []\n",
    "\n",
    "def gen_partial_permutations(im: int):\n",
    "    if im == m:\n",
    "        print(*a)\n",
    "    for i in range(1, n + 1):\n",
    "        if not used[i]:\n",
    "            used[i] = True\n",
    "            a.append(A[i - 1])\n",
    "            gen_partial_permutations(im + 1)\n",
    "            used[i] = False\n",
    "            a.pop()\n",
    "\n",
    "gen_partial_permutations(0)"
   ],
   "metadata": {
    "collapsed": false
   }
  },
  {
   "cell_type": "markdown",
   "source": [
    "### Генерация сочетаний"
   ],
   "metadata": {
    "collapsed": false
   }
  },
  {
   "cell_type": "code",
   "execution_count": 39,
   "outputs": [
    {
     "name": "stdout",
     "output_type": "stream",
     "text": [
      "1 2 3\n",
      "1 2 4\n",
      "1 2 5\n",
      "1 3 4\n",
      "1 3 5\n",
      "1 4 5\n",
      "2 3 4\n",
      "2 3 5\n",
      "2 4 5\n",
      "3 4 5\n"
     ]
    }
   ],
   "source": [
    "A = [1, 2, 3, 4, 5]\n",
    "n = 5\n",
    "m = 3\n",
    "a = []\n",
    "\n",
    "def gen_combination(im: int, last: int):\n",
    "    if im == m:\n",
    "        print(*a)\n",
    "    for i in range(last + 1, n + 1):\n",
    "        a.append(A[i - 1])\n",
    "        gen_combination(im + 1, i)\n",
    "        a.pop()\n",
    "\n",
    "gen_combination(0, 0)"
   ],
   "metadata": {
    "collapsed": false
   }
  },
  {
   "cell_type": "markdown",
   "source": [
    "## Представление числа в виде суммы целых положительных слагаемых"
   ],
   "metadata": {
    "collapsed": false
   }
  },
  {
   "cell_type": "code",
   "execution_count": null,
   "outputs": [],
   "source": [],
   "metadata": {
    "collapsed": false
   }
  },
  {
   "cell_type": "markdown",
   "source": [
    "## Правильные скобочные последовательности"
   ],
   "metadata": {
    "collapsed": false
   }
  },
  {
   "cell_type": "code",
   "execution_count": null,
   "outputs": [],
   "source": [],
   "metadata": {
    "collapsed": false
   }
  }
 ],
 "metadata": {
  "kernelspec": {
   "display_name": "Python 3",
   "language": "python",
   "name": "python3"
  },
  "language_info": {
   "codemirror_mode": {
    "name": "ipython",
    "version": 2
   },
   "file_extension": ".py",
   "mimetype": "text/x-python",
   "name": "python",
   "nbconvert_exporter": "python",
   "pygments_lexer": "ipython2",
   "version": "2.7.6"
  }
 },
 "nbformat": 4,
 "nbformat_minor": 0
}
