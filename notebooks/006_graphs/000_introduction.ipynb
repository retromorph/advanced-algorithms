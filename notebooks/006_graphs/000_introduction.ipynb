{
 "cells": [
  {
   "cell_type": "markdown",
   "id": "3f134dfbdc3fe0b8",
   "metadata": {},
   "source": [
    "# Введение в графовые алгоритмы"
   ]
  },
  {
   "cell_type": "markdown",
   "id": "18abc8f22a3ddea2",
   "metadata": {},
   "source": [
    "## Представление графов"
   ]
  },
  {
   "cell_type": "code",
   "execution_count": null,
   "id": "8ca84e2ca4c5eef9",
   "metadata": {
    "ExecuteTime": {
     "end_time": "2025-05-25T01:40:35.576036Z",
     "start_time": "2025-05-25T01:40:35.574831Z"
    }
   },
   "outputs": [],
   "source": []
  },
  {
   "cell_type": "markdown",
   "id": "ea1d95efacbde051",
   "metadata": {},
   "source": [
    "## Базовые алгоритмы"
   ]
  },
  {
   "cell_type": "markdown",
   "id": "ab0eb7d393f35581",
   "metadata": {},
   "source": [
    "### Обход в глубину"
   ]
  },
  {
   "cell_type": "markdown",
   "id": "6dc145867cc468e9",
   "metadata": {},
   "source": [
    "**Идея:**"
   ]
  },
  {
   "cell_type": "code",
   "execution_count": 1,
   "id": "1105fdd189884da3",
   "metadata": {},
   "outputs": [],
   "source": [
    "#include <vector>\n",
    "\n",
    "using namespace std;\n",
    "\n",
    "const uint32_t max_n = 1e5;\n",
    "bool visited[max_n];\n",
    "vector<vector<uint32_t>> graph;\n",
    "\n",
    "void dfs(const uint32_t start) {\n",
    "    visited[start] = true;\n",
    "\n",
    "    for (const auto v : graph[start]) {\n",
    "        if (!visited[v]) {\n",
    "            dfs(v);\n",
    "        }\n",
    "    }\n",
    "}"
   ]
  },
  {
   "cell_type": "markdown",
   "id": "0c774077-681c-40f4-b3e5-92121cea4f83",
   "metadata": {},
   "source": [
    "Асимптотика $O(V + E)$ time и $O(V)$ памяти\n",
    "\n",
    "Немного его модифицируем, а именно будем сохранять для каждой вершины, в какой момент мы в неё вошли и в какой вышли — соответствующие массивы будем называть t_in и t_out."
   ]
  },
  {
   "cell_type": "code",
   "execution_count": 1,
   "id": "a85aad7a-96ee-4aaa-a927-b297833a2e3d",
   "metadata": {},
   "outputs": [],
   "source": [
    "#include <vector>\n",
    "\n",
    "using namespace std;\n",
    "\n",
    "const uint32_t max_n = 1e5;\n",
    "bool visited[max_n];\n",
    "uint32_t t_in[max_n];\n",
    "uint32_t t_out[max_n];\n",
    "vector<vector<uint32_t>> graph;\n",
    "uint32_t t = 0;\n",
    "\n",
    "void dfs(const uint32_t start) {\n",
    "    t_in[start] = t;\n",
    "    t++;\n",
    "\n",
    "    for (const auto v : graph[start]) {\n",
    "        if (!visited[v]) {\n",
    "            dfs(v);\n",
    "        }\n",
    "    }\n",
    "\n",
    "    t_out[start] = t;\n",
    "}"
   ]
  },
  {
   "cell_type": "markdown",
   "id": "f7382008-f351-4abe-bd3b-c35a1207f6d2",
   "metadata": {},
   "source": [
    "У этих массивов много полезных свойств:\n",
    "\n",
    "Вершина \n",
    "u\n",
    "u является предком \n",
    "v\n",
    "v \n",
    "⟺\n",
    "t\n",
    "i\n",
    "n\n",
    "v\n",
    "∈\n",
    "[\n",
    "t\n",
    "i\n",
    "n\n",
    "u\n",
    ",\n",
    "t\n",
    "o\n",
    "u\n",
    "t\n",
    "u\n",
    ")\n",
    "⟺tin \n",
    "v\n",
    "​\n",
    " ∈[tin \n",
    "u\n",
    "​\n",
    " ,tout \n",
    "u\n",
    "​\n",
    " ). Эту проверку можно делать за константу.\n",
    "Два полуинтервала \n",
    "[\n",
    "t\n",
    "i\n",
    "n\n",
    "v\n",
    ",\n",
    "t\n",
    "o\n",
    "u\n",
    "t\n",
    "v\n",
    ")\n",
    "[tin \n",
    "v\n",
    "​\n",
    " ,tout \n",
    "v\n",
    "​\n",
    " ) и \n",
    "[\n",
    "t\n",
    "i\n",
    "n\n",
    "u\n",
    ",\n",
    "t\n",
    "o\n",
    "u\n",
    "t\n",
    "u\n",
    ")\n",
    "[tin \n",
    "u\n",
    "​\n",
    " ,tout \n",
    "u\n",
    "​\n",
    " ) либо не пересекаются, либо один вложен в другой.\n",
    "В массиве \n",
    "t\n",
    "i\n",
    "n\n",
    "tin есть все числа от 0 до \n",
    "(\n",
    "n\n",
    "−\n",
    "1\n",
    ")\n",
    "(n−1), причём у каждой вершины свой номер.\n",
    "Размер поддерева вершины \n",
    "v\n",
    "v (включая саму вершину) равен \n",
    "(\n",
    "t\n",
    "o\n",
    "u\n",
    "t\n",
    "v\n",
    "−\n",
    "t\n",
    "i\n",
    "n\n",
    "v\n",
    ")\n",
    "(tout \n",
    "v\n",
    "​\n",
    " −tin \n",
    "v\n",
    "​\n",
    " ).\n",
    "Если ввести нумерацию вершин, соответствующую \n",
    "t\n",
    "i\n",
    "n\n",
    "tin-ам, то индексы любого поддерева всегда будут каким-то промежутком в этой нумерации."
   ]
  },
  {
   "cell_type": "markdown",
   "id": "e34feae5-dd29-4cb2-8e0c-5cad8bc6910e",
   "metadata": {},
   "source": [
    "**Поиск компонент связности:**"
   ]
  },
  {
   "cell_type": "code",
   "execution_count": null,
   "id": "1acdb08c-a521-4a97-9d7e-0df933e0a381",
   "metadata": {},
   "outputs": [],
   "source": [
    "#include <vector>\n",
    "\n",
    "using namespace std;\n",
    "\n",
    "const uint32_t max_n = 1e5;\n",
    "bool visited[max_n];\n",
    "uint32_t components[max_n];\n",
    "vector<vector<uint32_t>> graph;\n",
    "\n",
    "void dfs(const uint32_t start, const uint32_t component_number) {\n",
    "    visited[start] = true;\n",
    "    components[start] = component_number;\n",
    "\n",
    "    for (const auto v : graph[start]) {\n",
    "        if (!visited[v]) {\n",
    "            dfs(v, component_number);\n",
    "        }\n",
    "    }\n",
    "}\n",
    "\n",
    "int32_t components_amount(uint32_t n) {\n",
    "    int amount = 0;\n",
    "    for (uint32_t i = 0; i < n; i++) {\n",
    "        if (!visited[i]) {\n",
    "            dfs(i, amount);\n",
    "            amount++;\n",
    "        }\n",
    "    }\n",
    "\n",
    "    return amount;\n",
    "}"
   ]
  },
  {
   "cell_type": "markdown",
   "id": "af5e94eb-d4ea-4e03-83ff-5f86433765f3",
   "metadata": {},
   "source": [
    "**Проверка графа на двудольность**"
   ]
  },
  {
   "cell_type": "code",
   "execution_count": 1,
   "id": "8856700d-c993-4217-91df-aba6be00bbef",
   "metadata": {},
   "outputs": [],
   "source": [
    "#include <iostream>\n",
    "#include <vector>\n",
    "\n",
    "using namespace std;\n",
    "\n",
    "const uint32_t max_n = 1e5;\n",
    "int colors[max_n];\n",
    "vector<vector<uint32_t>> graph;\n",
    "\n",
    "void dfs(const uint32_t start, const uint32_t color) {\n",
    "    colors[start] = 1;\n",
    "\n",
    "    for (const auto v : graph[start]) {\n",
    "        if (!colors[v]) {\n",
    "            dfs(v, -color);\n",
    "        } else if (colors[v] != -color) {\n",
    "            cout << \"Graph is not bipartite\" << endl;\n",
    "            exit(0);\n",
    "        }\n",
    "    }\n",
    "}\n",
    "\n",
    "void is_bipartite(uint32_t n) {\n",
    "    for (int v = 0; v < n; v++)\n",
    "        if (!colors[v]) {\n",
    "            dfs(v, 1);\n",
    "        }\n",
    "}"
   ]
  },
  {
   "cell_type": "markdown",
   "id": "69b9b39d-dc2e-4071-a260-1a6cb6f86143",
   "metadata": {},
   "source": [
    "Однако про раскраски можно доказать некоторые полезные утверждения, например:\n",
    "\n",
    "Граф можно раскрасить в два цвета — или, что эквивалентно, граф является двудольным — тогда и только тогда, когда все его простые циклы имеют чётную длину.\n",
    "Если степень любой вершины не превосходит \n",
    "k\n",
    "k, то граф можно раскрасить в \n",
    "k\n",
    "k цветов.\n",
    "Любое планарный граф возможно раскрасить в 4 цвета."
   ]
  },
  {
   "cell_type": "markdown",
   "id": "97bccce8-0b7a-4acb-a49b-2dff94f01c3d",
   "metadata": {},
   "source": [
    "**Нахождение цикла:**"
   ]
  },
  {
   "cell_type": "code",
   "execution_count": null,
   "id": "f60ce434-5c3f-48ff-b693-10914b675775",
   "metadata": {},
   "outputs": [],
   "source": [
    "#include <vector>\n",
    "#include <iostream>\n",
    "\n",
    "using namespace std;\n",
    "\n",
    "const uint32_t max_n = 1e5;\n",
    "bool visited[max_n];\n",
    "vector<vector<uint32_t>> graph;\n",
    "\n",
    "void dfs(const uint32_t start, const uint32_t p = -1) {\n",
    "    if (visited[start]) {\n",
    "        cout << \"Graph has a cycle\" << endl;\n",
    "        exit(0);\n",
    "    }\n",
    "\n",
    "    visited[start] = true;\n",
    "\n",
    "    for (const auto v : graph[start]) {\n",
    "        if (v != p) {\n",
    "            dfs(v, start);\n",
    "        }\n",
    "    }\n",
    "}\n",
    "\n",
    "void has_cycle(uint32_t n) {\n",
    "    for (int v = 0; v < n; v++) {\n",
    "        if (!visited[v]) {\n",
    "            dfs(v);\n",
    "        }\n",
    "    }\n",
    "}"
   ]
  },
  {
   "cell_type": "markdown",
   "id": "7e3a13e1-0db7-481d-b466-0560f7b876e4",
   "metadata": {},
   "source": [
    "**Топологическая сортировка:**"
   ]
  },
  {
   "cell_type": "code",
   "execution_count": 1,
   "id": "d95f2fcd-02ce-441e-8870-7c2a220b483f",
   "metadata": {},
   "outputs": [
    {
     "name": "stderr",
     "output_type": "stream",
     "text": [
      "ERROR: received bad message: No such comm registered: 873ef9c5-c0bc-4993-807c-8a1e4569ee0c\n",
      "Message type: comm_msg\n",
      "ERROR: received bad message: No such comm registered: 2086f765-2a48-4071-80f7-d8b6eeaa0af4\n",
      "Message type: comm_msg\n"
     ]
    }
   ],
   "source": [
    "#include <vector>\n",
    "\n",
    "using namespace std;\n",
    "\n",
    "const uint32_t max_n = 1e5;\n",
    "bool visited[max_n];\n",
    "vector<vector<uint32_t>> graph;\n",
    "vector<uint32_t> t;\n",
    "\n",
    "void dfs(const uint32_t start) {\n",
    "    visited[start] = true;\n",
    "\n",
    "    for (const auto v : graph[start]) {\n",
    "        if (!visited[v]) {\n",
    "            dfs(v);\n",
    "        }\n",
    "    }\n",
    "\n",
    "    t.push_back(start);\n",
    "}\n",
    "\n",
    "void topological_sort(uint32_t n) {\n",
    "    for (uint32_t i = 0; i < n; i++) {\n",
    "        if (!visited[i]) {\n",
    "            dfs(i);\n",
    "        }\n",
    "    }\n",
    "    reverse(t.begin(), t.end());\n",
    "}"
   ]
  },
  {
   "cell_type": "code",
   "execution_count": null,
   "id": "e711f6ed-6319-4220-9f15-45fd529131f4",
   "metadata": {},
   "outputs": [],
   "source": []
  }
 ],
 "metadata": {
  "kernelspec": {
   "display_name": "C++20",
   "language": "cpp",
   "name": "xcpp20"
  },
  "language_info": {
   "codemirror_mode": "text/x-c++src",
   "file_extension": ".cpp",
   "mimetype": "text/x-c++src",
   "name": "C++",
   "version": "20"
  }
 },
 "nbformat": 4,
 "nbformat_minor": 5
}
