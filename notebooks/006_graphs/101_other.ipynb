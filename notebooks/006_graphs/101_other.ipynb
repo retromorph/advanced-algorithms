{
 "cells": [
  {
   "metadata": {},
   "cell_type": "code",
   "outputs": [],
   "execution_count": null,
   "source": [
    "def C(n: int, k: int) -> int:\n",
    "    dp = [None] * (n + 1)\n",
    "    for i in range(n + 1):\n",
    "        dp[i] = [0] * (k + 1)\n",
    "        dp[i][0] = 1\n",
    "    for i in range(k + 1):\n",
    "        dp[i][i] = 1\n",
    "\n",
    "    for i in range(1, n + 1):\n",
    "        for j in range(1, min(i, k + 1)):\n",
    "            dp[i][j] = dp[i - 1][j - 1] + dp[i - 1][j]\n",
    "\n",
    "    return dp[n][k]\n",
    "\n",
    "print(C(30, 10))"
   ],
   "id": "fa2496403e57acba"
  }
 ],
 "metadata": {},
 "nbformat": 4,
 "nbformat_minor": 5
}
