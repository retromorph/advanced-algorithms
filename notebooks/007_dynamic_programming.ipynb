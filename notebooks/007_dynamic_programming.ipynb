{
 "cells": [
  {
   "cell_type": "markdown",
   "source": [
    "# Динамическое программирование (Dynamic programming)"
   ],
   "metadata": {
    "collapsed": false
   }
  },
  {
   "cell_type": "markdown",
   "source": [
    "## Введение"
   ],
   "metadata": {
    "collapsed": false
   }
  },
  {
   "cell_type": "markdown",
   "source": [
    "**Определение:** Дискретная управляемая система (Discrete control system) $\\Omega$ - это упорядоченный набор $\\langle D, q, F, V(x), f(x, v), s(x, v)\\rangle$, где:\n",
    "1. $D$ - конечное множество возможных состояний\n",
    "2. $q \\in D$ - начальное состояние\n",
    "3. $F \\subset D$ - множество финальных состояний\n",
    "4. $V(x)$ - конечное множество возможных в состоянии $x$ управлений\n",
    "5. $f(x, v)$ - функция перехода из состояния $x$ под воздействием управления $v$ в состояние $x' = f(x, v)$\n",
    "6. $s(x, v)$ - функция стоимости за переход\n",
    "\n",
    "**Определение:** Последовательность $T = \\{x_0, x_1, ... , x_n\\}$ называется траекторией системы, если $x_i = f(x^{i - 1}, v_i)$, где $v_i \\in V(x_{i - 1})$\n",
    "\n",
    "**Определение:** Траектория называется заключительной x-траекторией, если $x_0 = x \\in D$, а $x_n \\in F$\n",
    "\n",
    "**Определение:** Траектория называется начальной x-траекторией, если $x_0 = q$, а $x_n = x \\in D$\n",
    "\n",
    "**Определение:** Траектория называется полной, если $x_0 = q$, а $x_n \\in F$\n",
    "\n",
    "**Определение:** Введем отношение $P(x, y)$ : $x$ и $y$ называются достижимыми, если существует траектория из $x$ в $y$\n",
    "Очевидно, что отношение P рефлексивно, т. е. $P(x, x)$ и транзитивно, т. е. $P(x, y), P(y, z) \\Rightarrow P(x, z)$\n",
    "Так же, для простоты будем рассматривать только дискретные управляемые системы, на которых отношение $P(x, y)$ будет еще и антисимметричным, т. е. $P(x, y), P(y, x) \\Rightarrow x = y$. Это означает, что в траекториях между состояниями системы не будет циклов\n",
    "\n",
    "**Определение:** Функция стоимости траектории $C(T)$ - некоторая численная мера траектории. Зависит от функции стоимости перехода $s(x, v)$\n",
    "\n",
    "**Определение:** Функция Беллмана -\n",
    "\n",
    "Восходящее/нисходящее дп\n",
    "\n",
    "**Принцип:** Беллмана (Bellman principle)\n",
    "Если из оптимальности траектории $T = \\{x_0, x_1, ..., x_n\\}$ относительно функции стоимости $С(T)$ следует оптимальность траектории $T(x_i) = \\{x_i, ..., x_n\\}$, то к задаче оптимизации управляющей системы можно применить метод динамического программирования\n",
    "\n",
    "Графовое представление\n",
    "\n",
    "Эмпирическое введение задачи дп + замечания"
   ],
   "metadata": {
    "collapsed": false
   }
  },
  {
   "cell_type": "markdown",
   "source": [
    "## Задача генерации чисел Фибоначчи"
   ],
   "metadata": {
    "collapsed": false
   }
  },
  {
   "cell_type": "markdown",
   "source": [
    "Рекуррентные формулы для чисел Фибоначчи:\n",
    "$F_n = F_{n - 1} + F_{n - 2}$\n",
    "$F_0 = 0$\n",
    "$F_1 = 1$\n",
    "\n",
    "Наивный алгоритм:"
   ],
   "metadata": {
    "collapsed": false
   }
  },
  {
   "cell_type": "code",
   "execution_count": 11,
   "metadata": {
    "collapsed": true
   },
   "outputs": [
    {
     "data": {
      "text/plain": "55"
     },
     "execution_count": 11,
     "metadata": {},
     "output_type": "execute_result"
    }
   ],
   "source": [
    "def F(n: int) -> int:\n",
    "    if n == 0:\n",
    "        return 0\n",
    "    elif n == 1:\n",
    "        return 1\n",
    "\n",
    "    return F(n - 1) + F(n - 2)\n",
    "\n",
    "F(10)"
   ]
  },
  {
   "cell_type": "markdown",
   "source": [
    "**Теорема:** Асимптотика F - $O(\\phi^n)$\n",
    "$\\square$\n",
    "$\\frac{F_n}{F_{n - 1}} < \\phi$\n",
    "\n",
    "$F_n < \\phi^n$\n",
    "\n",
    "Так как в дереве рекурсии F значениями листов будут являться только $F(0)$ и $F(1)$, количество листов $h \\le F_n < \\phi^n$\n",
    "$\\blacksquare$\n",
    "\n",
    "Воспользуемся методом динамического программирования:"
   ],
   "metadata": {
    "collapsed": false
   }
  },
  {
   "cell_type": "code",
   "execution_count": 15,
   "outputs": [
    {
     "name": "stdout",
     "output_type": "stream",
     "text": [
      "55\n"
     ]
    }
   ],
   "source": [
    "def F(n: int) -> int:\n",
    "    if n == 0:\n",
    "        return 0\n",
    "    elif n == 1:\n",
    "        return 1\n",
    "\n",
    "    prev1 = 0\n",
    "    prev2 = 1\n",
    "\n",
    "    for i in range(2, n + 1):\n",
    "        F_i = prev1 + prev2\n",
    "        prev1 = prev2\n",
    "        prev2 = F_i\n",
    "\n",
    "    return prev2\n",
    "\n",
    "print(F(10))"
   ],
   "metadata": {
    "collapsed": false
   }
  },
  {
   "cell_type": "markdown",
   "source": [
    "Асимптотика F - $O(n)$"
   ],
   "metadata": {
    "collapsed": false
   }
  },
  {
   "cell_type": "markdown",
   "source": [
    "## Задача генерации биномиальные коэффициенты"
   ],
   "metadata": {
    "collapsed": false
   }
  },
  {
   "cell_type": "markdown",
   "source": [
    "Формула для числа сочетаний $C_n^k = \\frac{n!}{(n - k)! \\cdot k!}$. Проблема в том, что при вычислении по этой формуле при достаточно больших $n$ можно получить переполнение в целочисленном типе или потерю точности в типе с плавающей точкой.\n",
    "\n",
    "Так же есть рекуррентная формула для чисел сочетаний: $C_n^k = C_{n - 1}^{k - 1} + C_{n - 1}^k$.\n",
    "\n",
    "Посмотрим на нее, как на функцию Беллмана и воспользуемся методом динамического программирования:"
   ],
   "metadata": {
    "collapsed": false
   }
  },
  {
   "cell_type": "code",
   "execution_count": 63,
   "outputs": [
    {
     "name": "stdout",
     "output_type": "stream",
     "text": [
      "3\n"
     ]
    }
   ],
   "source": [
    "def C(n: int, k: int) -> int:\n",
    "    dp = [None] * (n + 1)\n",
    "    for i in range(n + 1):\n",
    "        dp[i] = [0] * (k + 1)\n",
    "        dp[i][0] = 1\n",
    "    for i in range(k + 1):\n",
    "        dp[i][i] = 1\n",
    "\n",
    "    for i in range(1, n + 1):\n",
    "        for j in range(1, min(i, k + 1)):\n",
    "            dp[i][j] = dp[i - 1][j - 1] + dp[i - 1][j]\n",
    "\n",
    "    return dp[n][k]\n",
    "\n",
    "print(C(3, 2))"
   ],
   "metadata": {
    "collapsed": false
   }
  },
  {
   "cell_type": "markdown",
   "source": [
    "Асимптотика С - $O(n \\cdot k)$"
   ],
   "metadata": {
    "collapsed": false
   }
  },
  {
   "cell_type": "markdown",
   "source": [
    "## Задача разрезания стержня"
   ],
   "metadata": {
    "collapsed": false
   }
  },
  {
   "cell_type": "markdown",
   "source": [
    "Формулировка задачи: Имеются стержень длиной $n$ и таблица цен $p_i$. Необходимо найти разрезание стержня, которое принесет максимальную прибыль $r(n)$"
   ],
   "metadata": {
    "collapsed": false
   }
  },
  {
   "cell_type": "code",
   "execution_count": 86,
   "outputs": [
    {
     "name": "stdout",
     "output_type": "stream",
     "text": [
      "[0, 1, 5, 8, 10, 13, 17, 18, 22, 40, 41]\n",
      "[0, 1, 2, 3, 2, 2, 6, 1, 2, 9, 1]\n"
     ]
    },
    {
     "data": {
      "text/plain": "41"
     },
     "execution_count": 86,
     "metadata": {},
     "output_type": "execute_result"
    }
   ],
   "source": [
    "def cut_rod(p: list, n: int):\n",
    "    r = [0] * (n + 1)\n",
    "    s = [0] * (n + 1)\n",
    "\n",
    "    for i in range(1, n + 1):\n",
    "        q = float(\"-inf\")\n",
    "        for j in range(1, i + 1):\n",
    "            if q < p[j] + r[i - j]:\n",
    "                q = p[j] + r[i - j]\n",
    "                s[i] = j\n",
    "        r[i] = q\n",
    "\n",
    "\n",
    "    return r[-1]\n",
    "\n",
    "cut_rod([0, 1, 5, 8, 9, 10, 17, 17, 20, 24, 30], 10)"
   ],
   "metadata": {
    "collapsed": false
   }
  },
  {
   "cell_type": "markdown",
   "source": [
    "## Задача оптимальной расстановки скобок в матричном произведении"
   ],
   "metadata": {
    "collapsed": false
   }
  },
  {
   "cell_type": "code",
   "execution_count": null,
   "outputs": [],
   "source": [
    "def matrix_chain_order(p: list):\n",
    "    pass\n"
   ],
   "metadata": {
    "collapsed": false
   }
  },
  {
   "cell_type": "markdown",
   "source": [
    "## Расстояние редактирования\n",
    "\n",
    "Пусть в пространстве всевозможных слов $L$ определены 3 операции:\n",
    "1. Замена символа $a$ на $b$\n",
    "2. Вставка элемента $a$ на позицию $\\epsilon$\n",
    "3. Удаление элемента $a$ с позиции $\\epsilon$\n",
    "\n",
    "И для каждой из них определена цена $w$:\n",
    "1. $w(a, b)$ - цена замены\n",
    "2. $w(\\epsilon, b)$ - цена вставки\n",
    "3. $w(a, \\epsilon)$ - цена удаления\n",
    "\n",
    "**Определение:** Расстояние редактирования в пространстве $L$ - это $d(A, B) = \\sum_{i = 1}^n w_i$, где $w_n$ - это минимальная по количеству элементов последовательность операций редактирования\n",
    "\n",
    "Будем рассматривать только те расстояния редактирования $d$, которые являются метриками в пространстве $L$, т.е.:\n",
    "1. $w(a, a) = 0$\n",
    "2. $w(a, b) = w(b, a)$\n",
    "3. $w(a, c) \\le w(a, b) + w(b, c)$\n",
    "\n",
    "**Определение:** Расстояние Левенштейна - расстояние редактирования такое что:\n",
    "1. $w(a, a) = 0$\n",
    "2. $w(a, b) = 1$\n",
    "3. $w(\\epsilon, b) = 1$\n",
    "4. $w(a, \\epsilon) = 1$\n",
    "\n",
    "Уравнение Беллмана для расстояния редактирования:\n",
    "$d_{A, B}(i, j)= $\n",
    "1. $0$, $i = j$\n",
    "2. $i \\cdot deleteCost$, $i > 0, j = 0$\n",
    "3. $j \\cdot insertCost$, $i = 0, j > 0$\n",
    "4. $d(i - 1, j - 1)$, $A_i = B_i$\n",
    "5. $min(d(i, j - 1) + insertCost, d(i - 1, j) + deleteCost, d(i - 1, j - 1) + replaceCost)$"
   ],
   "metadata": {
    "collapsed": false
   }
  },
  {
   "cell_type": "code",
   "execution_count": 53,
   "outputs": [
    {
     "data": {
      "text/plain": "5"
     },
     "execution_count": 53,
     "metadata": {},
     "output_type": "execute_result"
    }
   ],
   "source": [
    "def redaction_d(A: str, B: str, insertionCost: int = 1, deleteCost: int = 1, replaceCost: int = 1) -> int:\n",
    "    dp = [None] * (len(B) + 1)\n",
    "    for i in range(len(B) + 1):\n",
    "        dp[i] = [0] * (len(A) + 1)\n",
    "    for i in range(1, (len(B) + 1)):\n",
    "        dp[i][0] = i * deleteCost\n",
    "    for i in range(1, (len(A) + 1)):\n",
    "        dp[0][i] = i * insertionCost\n",
    "\n",
    "    for i in range(1, (len(B) + 1)):\n",
    "        for j in range(1, (len(A) + 1)):\n",
    "            if B[i - 1] == A[j - 1]:\n",
    "                dp[i][j] = dp[i - 1][j - 1]\n",
    "            else:\n",
    "                dp[i][j] = min(dp[i][j - 1] + insertionCost, dp[i - 1][j] + deleteCost, dp[i - 1][j - 1] + replaceCost)\n",
    "\n",
    "    return dp[len(B)][len(A)]\n",
    "\n",
    "redaction_d(\"wlhauodia\", \"wwahauobrt\")"
   ],
   "metadata": {
    "collapsed": false
   }
  },
  {
   "cell_type": "code",
   "execution_count": null,
   "outputs": [],
   "source": [],
   "metadata": {
    "collapsed": false
   }
  }
 ],
 "metadata": {
  "kernelspec": {
   "display_name": "Python 3",
   "language": "python",
   "name": "python3"
  },
  "language_info": {
   "codemirror_mode": {
    "name": "ipython",
    "version": 2
   },
   "file_extension": ".py",
   "mimetype": "text/x-python",
   "name": "python",
   "nbconvert_exporter": "python",
   "pygments_lexer": "ipython2",
   "version": "2.7.6"
  }
 },
 "nbformat": 4,
 "nbformat_minor": 0
}
