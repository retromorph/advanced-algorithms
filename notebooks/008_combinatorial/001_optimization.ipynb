{
 "cells": [
  {
   "cell_type": "markdown",
   "id": "a40016b3-8192-4404-9f27-b5701a6fc20c",
   "metadata": {},
   "source": [
    "# Комбинаторная оптимизация"
   ]
  },
  {
   "cell_type": "markdown",
   "id": "110b8774-04ee-4bde-b70f-f1169539d84e",
   "metadata": {},
   "source": [
    "## Meet-in-the-middle"
   ]
  },
  {
   "cell_type": "code",
   "execution_count": null,
   "id": "ca99d2ba-4b9d-4667-82ce-228583a7e52e",
   "metadata": {},
   "outputs": [],
   "source": []
  }
 ],
 "metadata": {
  "kernelspec": {
   "display_name": "Python 3 (ipykernel)",
   "language": "python",
   "name": "python3"
  },
  "language_info": {
   "codemirror_mode": {
    "name": "ipython",
    "version": 3
   },
   "file_extension": ".py",
   "mimetype": "text/x-python",
   "name": "python",
   "nbconvert_exporter": "python",
   "pygments_lexer": "ipython3",
   "version": "3.12.9"
  }
 },
 "nbformat": 4,
 "nbformat_minor": 5
}
