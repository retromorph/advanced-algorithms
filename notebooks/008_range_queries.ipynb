{
 "cells": [
  {
   "cell_type": "markdown",
   "source": [
    "# Запросы на отрезках"
   ],
   "metadata": {
    "collapsed": false
   }
  },
  {
   "cell_type": "markdown",
   "source": [
    "## Префиксные последовательности"
   ],
   "metadata": {
    "collapsed": false
   }
  },
  {
   "cell_type": "markdown",
   "source": [
    "**Определение:** Префиксная последовательность от последовательности $A_n$ и обратимой операции $\\circ$ - это\n",
    "\n",
    "\\begin{align}\n",
    "$S_n(\\omega) =$\n",
    "\\begin{cases}\n",
    "0, & \\mbox{ } n = 0 \\\\\n",
    "A_0, & \\mbox{ } n = 1 \\\\\n",
    "S_{n - 1} \\circ A_{n - 1}, & \\mbox{ } n > 1\n",
    "\\end{cases}\n",
    "\\end{align}\n",
    "\n",
    "Важнейшим свойством префиксной последовательности является то, что $A_l \\circ A_{l + 1} \\circ ... \\circ A_r = S_r \\circ S_l^{-1}$. Это позволяет выполнять запросы на отрезке массива за $O(1)$\n",
    "\n",
    "__Замечание:__ Свойством обратимости обладают например сумма, произведение, исключающее или, сложение по модулю и другие групповые операции. Зато им не обладают min/max\n",
    "\n",
    "Построение префиксной последовательности:"
   ],
   "metadata": {
    "collapsed": false
   }
  },
  {
   "cell_type": "code",
   "execution_count": 14,
   "metadata": {
    "collapsed": true
   },
   "outputs": [
    {
     "name": "stdout",
     "output_type": "stream",
     "text": [
      "[0, 1, 5, 17, 30, 31, 87, 104]\n"
     ]
    }
   ],
   "source": [
    "from collections.abc import Callable\n",
    "\n",
    "def build(A: list, f: Callable[[int, int], int]) -> list:\n",
    "    n = len(A)\n",
    "    S = [0] * (n + 1)\n",
    "    S[1] = A[0]\n",
    "\n",
    "    for i in range(2, n + 1):\n",
    "        S[i] = f(S[i - 1], A[i - 1])\n",
    "\n",
    "    return S\n",
    "\n",
    "A = [1, 4, 12, 13, 1, 56, 17]\n",
    "f = lambda x, y: x + y\n",
    "f_reversed = lambda x, y: y - x\n",
    "S = build(A, f)\n",
    "print(S)"
   ]
  },
  {
   "cell_type": "markdown",
   "source": [
    "Добавление элементов в префиксную последовательность"
   ],
   "metadata": {
    "collapsed": false
   }
  },
  {
   "cell_type": "code",
   "execution_count": 13,
   "outputs": [
    {
     "name": "stdout",
     "output_type": "stream",
     "text": [
      "[0, 1, 5, 17, 30, 31, 87, 104, 115, 126]\n"
     ]
    }
   ],
   "source": [
    "def append(S: list, a, f: Callable[[int, int], int]):\n",
    "    S.append(f(S[-1], a))\n",
    "\n",
    "append(S, 11, f)\n",
    "print(S)"
   ],
   "metadata": {
    "collapsed": false
   }
  },
  {
   "cell_type": "markdown",
   "source": [
    "Запрос суммы на отрезке от l до r"
   ],
   "metadata": {
    "collapsed": false
   }
  },
  {
   "cell_type": "code",
   "execution_count": 16,
   "outputs": [
    {
     "name": "stdout",
     "output_type": "stream",
     "text": [
      "26\n"
     ]
    }
   ],
   "source": [
    "l = 2\n",
    "r = 5\n",
    "print(f_reversed(S[l], S[r]))"
   ],
   "metadata": {
    "collapsed": false
   }
  },
  {
   "cell_type": "markdown",
   "source": [
    "## Дерево отрезков"
   ],
   "metadata": {
    "collapsed": false
   }
  },
  {
   "cell_type": "markdown",
   "source": [
    "**Определение** Дерево отрезков от последовательности $A_n$ и ассоциативной функции $\\phi$ - это дерево, листьями которого являются элементы исходного массива, а вершинами - пары из объединения интервалов их детей и значений ассоциативной функции $\\phi$. У каждой вершины по два ребенка."
   ],
   "metadata": {
    "collapsed": false
   }
  },
  {
   "cell_type": "code",
   "execution_count": 47,
   "outputs": [],
   "source": [
    "n = 7\n",
    "A = [1, 4, 12, 13, 1, 56, 17]\n",
    "D = [0] * 3 * n\n",
    "f = lambda x, y: x + y"
   ],
   "metadata": {
    "collapsed": false
   }
  },
  {
   "cell_type": "markdown",
   "source": [
    "Добавление элемента в дерево"
   ],
   "metadata": {
    "collapsed": false
   }
  },
  {
   "cell_type": "code",
   "execution_count": 50,
   "outputs": [
    {
     "name": "stdout",
     "output_type": "stream",
     "text": [
      "[104, 17, 87, 1, 16, 14, 73, 0, 0, 4, 12, 13, 1, 56, 17, 0, 0, 0, 0, 0, 0]\n"
     ]
    }
   ],
   "source": [
    "def update(v: int, lv: int, rv: int, i: int, val: int):\n",
    "    if i < lv or i >= rv:\n",
    "        return\n",
    "    if lv + 1 == rv:\n",
    "        D[v] = val\n",
    "        return\n",
    "    mid = (lv + rv) // 2\n",
    "    update(v * 2 + 1, lv, mid, i, val)\n",
    "    update(v * 2 + 2, mid, rv, i, val)\n",
    "    D[v] = f(D[v * 2 + 1], D[v * 2 + 2])\n",
    "\n",
    "def build():\n",
    "    for i in range(n):\n",
    "        update(0, 0, n, i, A[i])\n",
    "\n",
    "print(D)"
   ],
   "metadata": {
    "collapsed": false
   }
  },
  {
   "cell_type": "markdown",
   "source": [],
   "metadata": {
    "collapsed": false
   }
  },
  {
   "cell_type": "code",
   "execution_count": 52,
   "outputs": [
    {
     "data": {
      "text/plain": "29"
     },
     "execution_count": 52,
     "metadata": {},
     "output_type": "execute_result"
    }
   ],
   "source": [
    "def query(v: int, lv: int, rv: int, l: int, r: int):\n",
    "    if l <= lv and rv <= r:\n",
    "        return D[v]\n",
    "    if r <= lv or l >= rv:\n",
    "        return 0\n",
    "    mid = (lv + rv) // 2\n",
    "    return f(query(v * 2 + 1, lv, mid, l, r), query(v * 2 + 2, mid, rv, l, r))\n",
    "\n",
    "query(0, 0, n, 1, 4)"
   ],
   "metadata": {
    "collapsed": false
   }
  },
  {
   "cell_type": "code",
   "execution_count": null,
   "outputs": [],
   "source": [],
   "metadata": {
    "collapsed": false
   }
  },
  {
   "cell_type": "markdown",
   "source": [
    "## Дерево Фенвика"
   ],
   "metadata": {
    "collapsed": false
   }
  },
  {
   "cell_type": "markdown",
   "source": [],
   "metadata": {
    "collapsed": false
   }
  },
  {
   "cell_type": "code",
   "execution_count": null,
   "outputs": [],
   "source": [],
   "metadata": {
    "collapsed": false
   }
  }
 ],
 "metadata": {
  "kernelspec": {
   "display_name": "Python 3",
   "language": "python",
   "name": "python3"
  },
  "language_info": {
   "codemirror_mode": {
    "name": "ipython",
    "version": 2
   },
   "file_extension": ".py",
   "mimetype": "text/x-python",
   "name": "python",
   "nbconvert_exporter": "python",
   "pygments_lexer": "ipython2",
   "version": "2.7.6"
  }
 },
 "nbformat": 4,
 "nbformat_minor": 0
}
