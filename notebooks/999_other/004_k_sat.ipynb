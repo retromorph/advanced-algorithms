{
 "cells": [
  {
   "cell_type": "markdown",
   "id": "f9240407-6355-49a4-a549-82b26176a21b",
   "metadata": {},
   "source": [
    "# Задача k-SAT"
   ]
  },
  {
   "cell_type": "code",
   "execution_count": null,
   "id": "844b87f2-4456-4872-8368-d98220f1f37f",
   "metadata": {},
   "outputs": [],
   "source": []
  }
 ],
 "metadata": {
  "kernelspec": {
   "display_name": "C++20",
   "language": "cpp",
   "name": "xcpp20"
  },
  "language_info": {
   "codemirror_mode": "text/x-c++src",
   "file_extension": ".cpp",
   "mimetype": "text/x-c++src",
   "name": "C++",
   "version": "20"
  }
 },
 "nbformat": 4,
 "nbformat_minor": 5
}
