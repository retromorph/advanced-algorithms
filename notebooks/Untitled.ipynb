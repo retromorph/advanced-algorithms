{
 "cells": [
  {
   "metadata": {
    "ExecuteTime": {
     "end_time": "2025-05-11T15:21:25.788058Z",
     "start_time": "2025-05-11T15:21:23.211049Z"
    }
   },
   "cell_type": "code",
   "source": [
    "from unittest import result\n",
    "\n",
    "\n",
    "def prepend(matrix):\n",
    "    a1 = [[0] + row for row in matrix]\n",
    "    a2 = [[0] * (len(matrix[0]) + 1)]\n",
    "    return a2 + a1\n",
    "\n",
    "def append(matrix):\n",
    "    a1 = [row + [0] for row in matrix]\n",
    "    a2 = [[0] * (len(matrix[0]) + 1)]\n",
    "    return a1+a2\n",
    "\n",
    "def max_mex_matrix(n):\n",
    "    if n == 1:\n",
    "        return [[0]]\n",
    "\n",
    "    k = (n - 1)**2\n",
    "\n",
    "    if n % 2 == 0:\n",
    "        matrix = append(max_mex_matrix(n - 1))\n",
    "        for i in range(n - 1):\n",
    "            matrix[i][n - 1] = k\n",
    "            k += 1\n",
    "\n",
    "        for i in range(n):\n",
    "            matrix[n - 1][i] = k\n",
    "            k += 1\n",
    "        return matrix\n",
    "\n",
    "    matrix = prepend(max_mex_matrix(n - 1))\n",
    "    for i in range(1, n):\n",
    "        matrix[0][i] = k\n",
    "        k += 1\n",
    "\n",
    "    for i in range(1, n):\n",
    "        matrix[i][0] = k\n",
    "        k += 1\n",
    "\n",
    "    matrix[0][0] = k\n",
    "    return matrix\n",
    "\n",
    "Q = int(input())\n",
    "\n",
    "for _ in range(Q):\n",
    "    n = int(input())\n",
    "    M = max_mex_matrix(n)\n",
    "    for row in M:\n",
    "        print(' '.join(map(str, row)))"
   ],
   "id": "50f4bb74a1f369f2",
   "outputs": [
    {
     "name": "stdout",
     "output_type": "stream",
     "text": [
      "0 1\n",
      "2 3\n",
      "8 4 5\n",
      "6 0 1\n",
      "7 2 3\n"
     ]
    }
   ],
   "execution_count": 30
  },
  {
   "metadata": {
    "ExecuteTime": {
     "end_time": "2025-05-11T15:57:38.948814Z",
     "start_time": "2025-05-11T15:57:38.941096Z"
    }
   },
   "cell_type": "code",
   "source": "",
   "id": "3fdbc61bcb13a79f",
   "outputs": [],
   "execution_count": 41
  },
  {
   "metadata": {
    "ExecuteTime": {
     "end_time": "2025-05-11T15:59:50.793095Z",
     "start_time": "2025-05-11T15:59:29.462603Z"
    }
   },
   "cell_type": "code",
   "source": [
    "def inv_mod2(lst):\n",
    "    if len(lst) <= 1:\n",
    "        return lst, 0\n",
    "\n",
    "    mid = len(lst) // 2\n",
    "    left, inv_l = inv_mod2(lst[:mid])\n",
    "    right, inv_r = inv_mod2(lst[mid:])\n",
    "    merged, inv = [], inv_l ^ inv_r\n",
    "    i = j = 0\n",
    "    while i < len(left) and j < len(right):\n",
    "        if left[i] <= right[j]:\n",
    "            merged.append(left[i]); i += 1\n",
    "        else:\n",
    "            merged.append(right[j])\n",
    "            inv ^= (len(left) - i) & 1\n",
    "            j += 1\n",
    "\n",
    "    merged.extend(left[i:])\n",
    "    merged.extend(right[j:])\n",
    "    return merged, inv\n",
    "\n",
    "def optimal_per(a, n):\n",
    "    if n < 4:\n",
    "        return a[:]\n",
    "\n",
    "    g0 = [a[i] for i in range(0, n, 2)]\n",
    "    g1 = [a[i] for i in range(1, n, 2)]\n",
    "    sorted_g0 = sorted(g0)\n",
    "    sorted_g1 = sorted(g1)\n",
    "    _, p0 = inv_mod2(g0)\n",
    "    _, p1 = inv_mod2(g1)\n",
    "\n",
    "    if p0 == p1:\n",
    "        final_g0, final_g1 = sorted_g0, sorted_g1\n",
    "    else:\n",
    "        if len(g0) > len(g1):\n",
    "            final_g0 = sorted_g0[:]\n",
    "            final_g0[-1], final_g0[-2] = final_g0[-2], final_g0[-1]\n",
    "            final_g1 = sorted_g1\n",
    "        else:\n",
    "            final_g1 = sorted_g1[:]\n",
    "            final_g1[-1], final_g1[-2] = final_g1[-2], final_g1[-1]\n",
    "            final_g0 = sorted_g0\n",
    "\n",
    "    res = []\n",
    "    i0 = i1 = 0\n",
    "    for i in range(n):\n",
    "        if i % 2 == 0:\n",
    "            res.append(final_g0[i0])\n",
    "            i0 += 1\n",
    "        else:\n",
    "            res.append(final_g1[i1])\n",
    "            i1 += 1\n",
    "    return res\n",
    "\n",
    "Q = int(input())\n",
    "\n",
    "for _ in range(Q):\n",
    "    n = int(input())\n",
    "    per = list(map(int, input().split(' ')))\n",
    "    opt = optimal_per(per, n)\n",
    "    print(' '.join(map(str, opt)))"
   ],
   "id": "3a3b0ca6d860fca3",
   "outputs": [
    {
     "name": "stdout",
     "output_type": "stream",
     "text": [
      "1 2 3 4\n",
      "2 1 3 4 5\n",
      "2 1 4 3 6 5 8 7 10 9\n"
     ]
    }
   ],
   "execution_count": 43
  },
  {
   "metadata": {
    "ExecuteTime": {
     "end_time": "2025-05-11T16:38:14.603537Z",
     "start_time": "2025-05-11T16:37:51.689690Z"
    }
   },
   "cell_type": "code",
   "source": [
    "Q = int(input())\n",
    "\n",
    "for _ in range(Q):\n",
    "    n, m, p, q = list(map(int, input().split(' ')))\n",
    "\n",
    "    if n % p != 0:\n",
    "        print(\"YES\")\n",
    "        continue\n",
    "\n",
    "    if m == (n // p) * q:\n",
    "        print(\"YES\")\n",
    "        continue\n",
    "\n",
    "    print(\"NO\")"
   ],
   "id": "6776dfa5597968ee",
   "outputs": [
    {
     "name": "stdout",
     "output_type": "stream",
     "text": [
      "YES\n",
      "YES\n",
      "YES\n",
      "NO\n",
      "NO\n"
     ]
    }
   ],
   "execution_count": 50
  },
  {
   "metadata": {
    "ExecuteTime": {
     "end_time": "2025-05-11T17:02:46.554075Z",
     "start_time": "2025-05-11T17:02:43.779092Z"
    }
   },
   "cell_type": "code",
   "source": [
    "Q = int(input())\n",
    "\n",
    "for _ in range(Q):\n",
    "    n = int(input())\n",
    "    arr = list(map(int, input().split(' ')))\n",
    "    pos = list(map(lambda x: abs(x), arr))\n",
    "    zero = pos[0]\n",
    "    pos_sorted = sorted(pos)\n",
    "    arg_zero = pos_sorted.index(zero)\n",
    "\n",
    "    if arg_zero <= (n//2):\n",
    "        print(\"YES\")\n",
    "    else:\n",
    "        print(\"NO\")"
   ],
   "id": "42b8e88524cc24f5",
   "outputs": [
    {
     "name": "stdout",
     "output_type": "stream",
     "text": [
      "YES\n"
     ]
    }
   ],
   "execution_count": 61
  },
  {
   "metadata": {},
   "cell_type": "code",
   "outputs": [],
   "execution_count": null,
   "source": "",
   "id": "5d9f8700e09e1af8"
  },
  {
   "metadata": {
    "ExecuteTime": {
     "end_time": "2025-05-14T10:10:40.400054Z",
     "start_time": "2025-05-14T10:10:33.967213Z"
    }
   },
   "cell_type": "code",
   "source": [
    "n = int(input())\n",
    "s = input()\n",
    "\n",
    "best = s\n",
    "for i in range(1, len(s)):\n",
    "    suffix = s[i:]\n",
    "    if len(suffix) > 0 and suffix < best:\n",
    "        best = suffix\n",
    "\n",
    "print(best)"
   ],
   "id": "5760116adf420212",
   "outputs": [
    {
     "name": "stdout",
     "output_type": "stream",
     "text": [
      "ABB\n"
     ]
    }
   ],
   "execution_count": 95
  },
  {
   "metadata": {},
   "cell_type": "code",
   "outputs": [],
   "execution_count": null,
   "source": [
    "n = int(input())\n",
    "m = map(int, input().split(' '))\n",
    "\n",
    "prev = m[0]\n",
    "diff = 0\n",
    "diff_len = 0\n",
    "result = 0\n",
    "for i in range(1, len(m)):\n",
    "    level = m[i]\n",
    "    diff = max(0, level - prev)\n",
    "    if level < prev:\n",
    "        diff = prev - level\n",
    "    elif level > prev:\n",
    "        diff -= level - prev\n",
    "        diff = max(0, diff)\n",
    "        if diff == 0 or i == len(m) - 1:\n",
    "            diff_len = 0\n",
    "\n",
    "    result += diff\n",
    "    if diff > 0:\n",
    "        diff_len += 1\n",
    "\n",
    "print(result)"
   ],
   "id": "e37829e6b36b7585"
  },
  {
   "metadata": {
    "ExecuteTime": {
     "end_time": "2025-05-14T10:45:51.927652Z",
     "start_time": "2025-05-14T10:45:51.913218Z"
    }
   },
   "cell_type": "code",
   "source": "",
   "id": "7865cbda39dabbc6",
   "outputs": [],
   "execution_count": 96
  },
  {
   "metadata": {
    "ExecuteTime": {
     "end_time": "2025-05-14T10:47:13.705198Z",
     "start_time": "2025-05-14T10:47:07.576202Z"
    }
   },
   "cell_type": "code",
   "source": [
    "def calc_water_blocks(heights, n):\n",
    "    left_max = [0] * n\n",
    "    right_max = [0] * n\n",
    "\n",
    "    left_max[0] = heights[0]\n",
    "    for i in range(1, n):\n",
    "        left_max[i] = max(heights[i], left_max[i-1])\n",
    "\n",
    "    right_max[n-1] = heights[n-1]\n",
    "    for i in range(n-2, -1, -1):\n",
    "        right_max[i] = max(heights[i], right_max[i+1])\n",
    "\n",
    "    water = 0\n",
    "    for i in range(n):\n",
    "        water += min(left_max[i], right_max[i]) - heights[i]\n",
    "\n",
    "    return water\n",
    "\n",
    "n = int(input())\n",
    "heights = list(map(int, input().split()))\n",
    "result = calc_water_blocks(heights, n)\n",
    "print(result)"
   ],
   "id": "e835540fa7ba33e4",
   "outputs": [
    {
     "name": "stdout",
     "output_type": "stream",
     "text": [
      "18\n"
     ]
    }
   ],
   "execution_count": 98
  },
  {
   "metadata": {
    "ExecuteTime": {
     "end_time": "2025-05-14T11:03:28.292649Z",
     "start_time": "2025-05-14T11:03:27.059523Z"
    }
   },
   "cell_type": "code",
   "source": [
    "import math\n",
    "\n",
    "def parse_frac(expr):\n",
    "    raw = expr.split('/')\n",
    "    if len(raw) == 1:\n",
    "        return int(raw[0])\n",
    "    else:\n",
    "        return int(raw[0]) / int(raw[1])\n",
    "\n",
    "expr = input()\n",
    "\n",
    "left_brace = expr[0]\n",
    "right_brace = expr[-1]\n",
    "left_num, right_num = map(parse_frac, expr[1:-1].split(', '))\n",
    "\n",
    "red_left_num = 0\n",
    "red_right_num = 0\n",
    "\n",
    "if type(left_num) == int:\n",
    "    if left_brace == '[':\n",
    "        red_left_num = left_num\n",
    "    if left_brace == '(':\n",
    "        red_left_num = left_num + 1\n",
    "\n",
    "if type(left_num) == float:\n",
    "    red_left_num = math.ceil(left_num)\n",
    "\n",
    "if type(right_num) == int:\n",
    "    if right_brace == ']':\n",
    "        red_right_num = right_num\n",
    "    if right_brace == ')':\n",
    "        red_right_num = right_num - 1\n",
    "\n",
    "if type(right_num) == float:\n",
    "    red_right_num = math.floor(right_num)\n",
    "\n",
    "if red_right_num >= red_left_num:\n",
    "    print(abs(red_right_num - red_left_num) + 1)\n",
    "else:\n",
    "    print(0)"
   ],
   "id": "1cfceb8e7ce8819c",
   "outputs": [
    {
     "name": "stdout",
     "output_type": "stream",
     "text": [
      "1.5 4\n",
      "2 3\n",
      "2\n"
     ]
    }
   ],
   "execution_count": 118
  },
  {
   "metadata": {
    "ExecuteTime": {
     "end_time": "2025-05-14T10:58:38.681038Z",
     "start_time": "2025-05-14T10:58:38.675598Z"
    }
   },
   "cell_type": "code",
   "source": "type(left_num)",
   "id": "8d53e663db9f7abd",
   "outputs": [
    {
     "data": {
      "text/plain": [
       "float"
      ]
     },
     "execution_count": 106,
     "metadata": {},
     "output_type": "execute_result"
    }
   ],
   "execution_count": 106
  },
  {
   "metadata": {},
   "cell_type": "code",
   "outputs": [],
   "execution_count": null,
   "source": "",
   "id": "61245694e5d3c18a"
  },
  {
   "metadata": {
    "ExecuteTime": {
     "end_time": "2025-05-14T11:31:35.670367Z",
     "start_time": "2025-05-14T11:31:16.343222Z"
    }
   },
   "cell_type": "code",
   "source": [
    "def calculate_max_satisfaction(passengers_list, m, p):\n",
    "    events = []\n",
    "    for i, (a, b, enter, exit) in enumerate(passengers_list):\n",
    "        events.append((enter, 1, i, a, b))\n",
    "        events.append((exit, -1, i, a, b))\n",
    "    events.sort()\n",
    "\n",
    "    max_satisfaction = 0\n",
    "    current = {}\n",
    "\n",
    "    for i in range(len(events) - 1):\n",
    "        time, event_type, idx, a, b = events[i]\n",
    "        next_time = events[i + 1][0]\n",
    "\n",
    "        if event_type == 1:\n",
    "            current[idx] = (a - b, a, b)\n",
    "        else:\n",
    "            if idx in current:\n",
    "                del current[idx]\n",
    "\n",
    "        if time < p:\n",
    "            sorted_passengers = sorted(current.items(), key=lambda x: x[1][0], reverse=True)\n",
    "            top_m = sorted_passengers[:m]\n",
    "\n",
    "            duration = min(next_time - time, p - time)\n",
    "            for passenger_id, (diff, a, b) in sorted_passengers:\n",
    "                if len(top_m) > 0 and (passenger_id, (diff, a, b)) in top_m:\n",
    "                    max_satisfaction += a * duration\n",
    "                else:\n",
    "                    max_satisfaction += b * duration\n",
    "\n",
    "    return max_satisfaction\n",
    "\n",
    "\n",
    "n, m, p = map(int, input().split())\n",
    "passengers = []\n",
    "for _ in range(n):\n",
    "    a, b, enter, exit = map(int, input().split())\n",
    "    passengers.append([a, b, enter, exit])\n",
    "\n",
    "result = calculate_max_satisfaction(passengers, m, p)\n",
    "print(result)"
   ],
   "id": "b42de8f1742ab755",
   "outputs": [
    {
     "name": "stdout",
     "output_type": "stream",
     "text": [
      "28\n"
     ]
    }
   ],
   "execution_count": 121
  },
  {
   "metadata": {},
   "cell_type": "code",
   "outputs": [],
   "execution_count": null,
   "source": [
    "def count_components(graph):\n",
    "    n = len(graph)\n",
    "    visited = [False] * n\n",
    "    components = 0\n",
    "\n",
    "    def dfs(v):\n",
    "        visited[v] = True\n",
    "        for u in graph[v]:\n",
    "            if not visited[u]:\n",
    "                dfs(u)\n",
    "\n",
    "    for v in range(n):\n",
    "        if not visited[v]:\n",
    "            components += 1\n",
    "            dfs(v)\n",
    "    return components\n",
    "\n",
    "\n",
    "n = int(input())\n",
    "graph = []\n",
    "for _ in range(n):\n",
    "    graph.append([])\n",
    "\n",
    "for i in range(n):\n",
    "    u = int(input())\n",
    "    graph[i].append(u - 1)\n",
    "\n",
    "result = count_components(graph)\n",
    "print(result)\n"
   ],
   "id": "afd5e665eb1ad313"
  },
  {
   "metadata": {},
   "cell_type": "code",
   "outputs": [],
   "execution_count": null,
   "source": "",
   "id": "cebddd3e2e8a4ac8"
  }
 ],
 "metadata": {},
 "nbformat": 4,
 "nbformat_minor": 5
}
