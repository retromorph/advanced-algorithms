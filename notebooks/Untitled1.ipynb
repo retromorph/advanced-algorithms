{
 "cells": [
  {
   "cell_type": "code",
   "id": "209c0ca5",
   "metadata": {
    "ExecuteTime": {
     "end_time": "2025-05-03T22:20:34.103494Z",
     "start_time": "2025-05-03T22:20:34.097630Z"
    }
   },
   "source": [
    "def canonical_rotation(word):\n",
    "    n = len(word)\n",
    "    # generate all cyclic shifts and take the minimum\n",
    "    return set(tuple(word[i:] + word[:i]) for i in range(n))"
   ],
   "outputs": [],
   "execution_count": 7
  },
  {
   "metadata": {
    "ExecuteTime": {
     "end_time": "2025-05-03T22:28:01.924311Z",
     "start_time": "2025-05-03T22:28:01.902515Z"
    }
   },
   "cell_type": "code",
   "source": [
    "len(list(canonical_rotation([1, 2, 3, 1, 2, 3])))\n",
    "\n",
    "# Алфавит 25\n",
    "# Слова длины 6\n",
    "# Одна буква повторяется\n",
    "# 6"
   ],
   "id": "2ca1c2a40a3f1b8d",
   "outputs": [
    {
     "data": {
      "text/plain": [
       "3"
      ]
     },
     "execution_count": 24,
     "metadata": {},
     "output_type": "execute_result"
    }
   ],
   "execution_count": 24
  },
  {
   "metadata": {
    "ExecuteTime": {
     "end_time": "2025-05-03T22:32:54.275964Z",
     "start_time": "2025-05-03T22:32:54.270156Z"
    }
   },
   "cell_type": "code",
   "source": "(25*24*23*22*21*20/6) + (25*24*23*22*21*5/6) + (25*24*23*22*4*4/6) + ((25*24*23*(3*3*3 - 1)/6) + (25*24*23/3))",
   "id": "88c0ac69595c11ea",
   "outputs": [
    {
     "data": {
      "text/plain": [
       "27439000.0"
      ]
     },
     "execution_count": 26,
     "metadata": {},
     "output_type": "execute_result"
    }
   ],
   "execution_count": 26
  },
  {
   "metadata": {},
   "cell_type": "code",
   "outputs": [],
   "execution_count": null,
   "source": [
    "\n",
    "# 27439000.0"
   ],
   "id": "17a96e47773a8be5"
  }
 ],
 "metadata": {
  "kernelspec": {
   "display_name": "C++14",
   "language": "C++14",
   "name": "xcpp14"
  }
 },
 "nbformat": 4,
 "nbformat_minor": 5
}
