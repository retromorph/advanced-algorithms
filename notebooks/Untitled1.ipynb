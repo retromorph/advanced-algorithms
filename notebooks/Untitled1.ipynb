{
 "cells": [
  {
   "cell_type": "code",
   "id": "209c0ca5",
   "metadata": {
    "ExecuteTime": {
     "end_time": "2025-05-03T22:20:34.103494Z",
     "start_time": "2025-05-03T22:20:34.097630Z"
    }
   },
   "source": "",
   "outputs": [],
   "execution_count": 7
  },
  {
   "metadata": {
    "ExecuteTime": {
     "end_time": "2025-05-03T22:28:01.924311Z",
     "start_time": "2025-05-03T22:28:01.902515Z"
    }
   },
   "cell_type": "code",
   "source": "",
   "id": "2ca1c2a40a3f1b8d",
   "outputs": [
    {
     "data": {
      "text/plain": [
       "3"
      ]
     },
     "execution_count": 24,
     "metadata": {},
     "output_type": "execute_result"
    }
   ],
   "execution_count": 24
  },
  {
   "metadata": {
    "ExecuteTime": {
     "end_time": "2025-05-03T22:32:54.275964Z",
     "start_time": "2025-05-03T22:32:54.270156Z"
    }
   },
   "cell_type": "code",
   "source": "",
   "id": "88c0ac69595c11ea",
   "outputs": [
    {
     "data": {
      "text/plain": [
       "27439000.0"
      ]
     },
     "execution_count": 26,
     "metadata": {},
     "output_type": "execute_result"
    }
   ],
   "execution_count": 26
  },
  {
   "metadata": {},
   "cell_type": "code",
   "outputs": [],
   "execution_count": null,
   "source": [
    "\n",
    "# 27439000.0"
   ],
   "id": "17a96e47773a8be5"
  }
 ],
 "metadata": {
  "kernelspec": {
   "display_name": "C++14",
   "language": "C++14",
   "name": "xcpp14"
  }
 },
 "nbformat": 4,
 "nbformat_minor": 5
}
