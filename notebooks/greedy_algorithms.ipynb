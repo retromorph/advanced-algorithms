{
 "cells": [
  {
   "cell_type": "markdown",
   "source": [
    "# Жадные алгоритмы"
   ],
   "metadata": {
    "collapsed": false
   }
  },
  {
   "cell_type": "markdown",
   "source": [
    "**Определение:** Жадный алгоритм (greedy algorithm) - алгоритм, заключающийся в принятии локально оптимальных решений на каждом этапе.\n",
    "\n",
    "**Замечание:** Понятное дело, что жадный алгоритм не в каждой задаче выдает глобально оптимальный результат. В некоторых случаях такие задачи можно будет решить методом динамического программирования.\n",
    "\n",
    "**Замечание:** Многие эвристические алгоритмы основаны на жадных алгоритмах. . . . .\n",
    "\n",
    "Примеры:\n",
    "1. Поиск максимума в массиве\n",
    "2. ..."
   ],
   "metadata": {
    "collapsed": false
   }
  },
  {
   "cell_type": "markdown",
   "source": [
    "## Теоретические основы жадных алгоритмов"
   ],
   "metadata": {
    "collapsed": false
   }
  },
  {
   "cell_type": "markdown",
   "source": [
    "**Определение:** Матроид (matroid) - это упорядоченная пара $M = \\langle S, I \\rangle$, такая что:\n",
    "1. $S$ - конечное множество\n",
    "2. $I \\subset 2^S : I \\neq \\emptyset$\n",
    "3. $B \\in I, A \\subset B \\Rightarrow A \\in I$ (наследственное свойство)\n",
    "4. $A, B \\in I : |A| < |B| \\Rightarrow \\exists x \\in B \\smallsetminus A : A \\cup \\{x\\} \\in I$ (свойство замены)\n",
    "\n",
    "**Замечание:** В некотором смысле матроид обобщает свойство линейной независимости на произвольные объекты. Мы это увидим в примере\n",
    "\n",
    "**Примеры:**\n",
    "Введем матрицу:\n",
    "\\begin{pmatrix}\n",
    "0 & 1 \\\\\n",
    "2 & 3\n",
    "\\end{pmatrix}\n",
    "\n",
    "Рассмотрим $S$ - множество столбцов, I"
   ],
   "metadata": {
    "collapsed": false
   }
  },
  {
   "cell_type": "markdown",
   "source": [],
   "metadata": {
    "collapsed": false
   }
  },
  {
   "cell_type": "code",
   "execution_count": null,
   "metadata": {
    "collapsed": true
   },
   "outputs": [],
   "source": []
  }
 ],
 "metadata": {
  "kernelspec": {
   "display_name": "Python 3",
   "language": "python",
   "name": "python3"
  },
  "language_info": {
   "codemirror_mode": {
    "name": "ipython",
    "version": 2
   },
   "file_extension": ".py",
   "mimetype": "text/x-python",
   "name": "python",
   "nbconvert_exporter": "python",
   "pygments_lexer": "ipython2",
   "version": "2.7.6"
  }
 },
 "nbformat": 4,
 "nbformat_minor": 0
}
